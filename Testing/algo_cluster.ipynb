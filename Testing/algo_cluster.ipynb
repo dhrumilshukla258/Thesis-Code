{
 "cells": [
  {
   "cell_type": "code",
   "execution_count": 2,
   "metadata": {},
   "outputs": [],
   "source": [
    "import matplotlib.pyplot as plt\n",
    "import pandas as pd\n",
    "import numpy as np\n",
    "import random\n",
    "import copy\n",
    "import cv2"
   ]
  },
  {
   "cell_type": "code",
   "execution_count": 26,
   "metadata": {},
   "outputs": [],
   "source": [
    "def conditions(s):\n",
    "    if (s['Wind']>=25) and (s['Wind']<30):\n",
    "        return 1.0\n",
    "    elif (s['Wind']>=30) and (s['Wind']<35):\n",
    "        return 2.0\n",
    "    elif (s['Wind']>=35) and (s['Wind']<45):\n",
    "        return 2.5\n",
    "    elif (s['Wind']>=45) and (s['Wind']<55):\n",
    "        return 3.0\n",
    "    elif (s['Wind']>=55) and (s['Wind']<65):\n",
    "        return 3.5\n",
    "    elif (s['Wind']>=65) and (s['Wind']<77):\n",
    "        return 4.0\n",
    "    elif (s['Wind']>=77) and (s['Wind']<90):\n",
    "        return 4.5\n",
    "    elif (s['Wind']>=90) and (s['Wind']<102):\n",
    "        return 5.0\n",
    "    elif (s['Wind']>=102) and (s['Wind']<115):\n",
    "        return 5.5\n",
    "    elif (s['Wind']>=115) and (s['Wind']<127):\n",
    "        return 6.0            \n",
    "    elif (s['Wind']>=127) and (s['Wind']<140):\n",
    "        return 6.5\n",
    "    elif (s['Wind']>=140) and (s['Wind']<155):\n",
    "        return 7.0\n",
    "    elif (s['Wind']>=155) and (s['Wind']<170):\n",
    "        return 7.5\n",
    "    elif (s['Wind']>=170) and (s['Wind']<185):\n",
    "        return 8.0\n",
    "    else:\n",
    "        return 8.5\n",
    "                                  \n",
    "imgFreq = {}\n",
    "fList = ['19H','19V','22V','37V','37H','91H','91V','150H','183_1H','183_3H','183_7H']\n",
    "rList = ['ATL','CPAC','EPAC','IO','SHEM','WPAC']\n",
    "for r in rList:\n",
    "    imgFreq[r] = {}\n",
    "    for f in fList:\n",
    "        imgFreq[r][f] = pd.read_csv(\"..//ImagesPerFreq//\"+r+\"_\"+f+'.csv')\n",
    "        #df[\"T_No\"] = 0\n",
    "        #df['T_No'] = df.apply(conditions, axis=1)\n",
    "        \n",
    "        #df.to_csv(\"..//ImagesPerFreq//\"+r+\"_\"+f+'.csv',index=False)"
   ]
  },
  {
   "cell_type": "code",
   "execution_count": 30,
   "metadata": {},
   "outputs": [
    {
     "data": {
      "text/html": [
       "<div>\n",
       "<style scoped>\n",
       "    .dataframe tbody tr th:only-of-type {\n",
       "        vertical-align: middle;\n",
       "    }\n",
       "\n",
       "    .dataframe tbody tr th {\n",
       "        vertical-align: top;\n",
       "    }\n",
       "\n",
       "    .dataframe thead th {\n",
       "        text-align: right;\n",
       "    }\n",
       "</style>\n",
       "<table border=\"1\" class=\"dataframe\">\n",
       "  <thead>\n",
       "    <tr style=\"text-align: right;\">\n",
       "      <th></th>\n",
       "      <th>FileName</th>\n",
       "      <th>CenLon</th>\n",
       "      <th>CenLat</th>\n",
       "      <th>Pressure</th>\n",
       "      <th>Wind</th>\n",
       "      <th>Area</th>\n",
       "      <th>T_No</th>\n",
       "    </tr>\n",
       "  </thead>\n",
       "  <tbody>\n",
       "    <tr>\n",
       "      <td>0</td>\n",
       "      <td>..//..//MyCreatedData//5//ATL//29//F16//S1//19...</td>\n",
       "      <td>-40.820101</td>\n",
       "      <td>30.037247</td>\n",
       "      <td>984</td>\n",
       "      <td>45</td>\n",
       "      <td>0.726836</td>\n",
       "      <td>3.0</td>\n",
       "    </tr>\n",
       "    <tr>\n",
       "      <td>1</td>\n",
       "      <td>..//..//MyCreatedData//5//ATL//29//F16//S1//19...</td>\n",
       "      <td>-41.221494</td>\n",
       "      <td>27.498088</td>\n",
       "      <td>983</td>\n",
       "      <td>50</td>\n",
       "      <td>0.980471</td>\n",
       "      <td>3.0</td>\n",
       "    </tr>\n",
       "    <tr>\n",
       "      <td>2</td>\n",
       "      <td>..//..//MyCreatedData//5//ATL//29//F16//S1//19...</td>\n",
       "      <td>-40.319371</td>\n",
       "      <td>25.653805</td>\n",
       "      <td>982</td>\n",
       "      <td>55</td>\n",
       "      <td>0.986157</td>\n",
       "      <td>3.5</td>\n",
       "    </tr>\n",
       "    <tr>\n",
       "      <td>3</td>\n",
       "      <td>..//..//MyCreatedData//5//ATL//29//F16//S1//19...</td>\n",
       "      <td>-39.045968</td>\n",
       "      <td>24.814455</td>\n",
       "      <td>980</td>\n",
       "      <td>60</td>\n",
       "      <td>0.984815</td>\n",
       "      <td>3.5</td>\n",
       "    </tr>\n",
       "    <tr>\n",
       "      <td>4</td>\n",
       "      <td>..//..//MyCreatedData//5//ATL//29//F16//S1//19...</td>\n",
       "      <td>-39.561312</td>\n",
       "      <td>23.379201</td>\n",
       "      <td>982</td>\n",
       "      <td>55</td>\n",
       "      <td>0.986157</td>\n",
       "      <td>3.5</td>\n",
       "    </tr>\n",
       "    <tr>\n",
       "      <td>...</td>\n",
       "      <td>...</td>\n",
       "      <td>...</td>\n",
       "      <td>...</td>\n",
       "      <td>...</td>\n",
       "      <td>...</td>\n",
       "      <td>...</td>\n",
       "      <td>...</td>\n",
       "    </tr>\n",
       "    <tr>\n",
       "      <td>5371</td>\n",
       "      <td>..//..//MyCreatedData//19//ATL//20//F18//S1//1...</td>\n",
       "      <td>-59.266902</td>\n",
       "      <td>23.975245</td>\n",
       "      <td>999</td>\n",
       "      <td>50</td>\n",
       "      <td>0.374884</td>\n",
       "      <td>3.0</td>\n",
       "    </tr>\n",
       "    <tr>\n",
       "      <td>5372</td>\n",
       "      <td>..//..//MyCreatedData//19//ATL//20//F18//S1//1...</td>\n",
       "      <td>-53.953452</td>\n",
       "      <td>26.017272</td>\n",
       "      <td>999</td>\n",
       "      <td>50</td>\n",
       "      <td>0.060826</td>\n",
       "      <td>3.0</td>\n",
       "    </tr>\n",
       "    <tr>\n",
       "      <td>5373</td>\n",
       "      <td>..//..//MyCreatedData//19//ATL//20//F18//S1//1...</td>\n",
       "      <td>-53.469813</td>\n",
       "      <td>26.245254</td>\n",
       "      <td>998</td>\n",
       "      <td>55</td>\n",
       "      <td>0.035787</td>\n",
       "      <td>3.5</td>\n",
       "    </tr>\n",
       "    <tr>\n",
       "      <td>5374</td>\n",
       "      <td>..//..//MyCreatedData//19//ATL//20//F18//S1//1...</td>\n",
       "      <td>-45.966468</td>\n",
       "      <td>31.907491</td>\n",
       "      <td>997</td>\n",
       "      <td>55</td>\n",
       "      <td>0.850694</td>\n",
       "      <td>3.5</td>\n",
       "    </tr>\n",
       "    <tr>\n",
       "      <td>5375</td>\n",
       "      <td>..//..//MyCreatedData//19//ATL//20//F18//S1//1...</td>\n",
       "      <td>-33.406797</td>\n",
       "      <td>38.796311</td>\n",
       "      <td>994</td>\n",
       "      <td>55</td>\n",
       "      <td>0.972407</td>\n",
       "      <td>3.5</td>\n",
       "    </tr>\n",
       "  </tbody>\n",
       "</table>\n",
       "<p>5376 rows × 7 columns</p>\n",
       "</div>"
      ],
      "text/plain": [
       "                                               FileName     CenLon     CenLat  \\\n",
       "0     ..//..//MyCreatedData//5//ATL//29//F16//S1//19... -40.820101  30.037247   \n",
       "1     ..//..//MyCreatedData//5//ATL//29//F16//S1//19... -41.221494  27.498088   \n",
       "2     ..//..//MyCreatedData//5//ATL//29//F16//S1//19... -40.319371  25.653805   \n",
       "3     ..//..//MyCreatedData//5//ATL//29//F16//S1//19... -39.045968  24.814455   \n",
       "4     ..//..//MyCreatedData//5//ATL//29//F16//S1//19... -39.561312  23.379201   \n",
       "...                                                 ...        ...        ...   \n",
       "5371  ..//..//MyCreatedData//19//ATL//20//F18//S1//1... -59.266902  23.975245   \n",
       "5372  ..//..//MyCreatedData//19//ATL//20//F18//S1//1... -53.953452  26.017272   \n",
       "5373  ..//..//MyCreatedData//19//ATL//20//F18//S1//1... -53.469813  26.245254   \n",
       "5374  ..//..//MyCreatedData//19//ATL//20//F18//S1//1... -45.966468  31.907491   \n",
       "5375  ..//..//MyCreatedData//19//ATL//20//F18//S1//1... -33.406797  38.796311   \n",
       "\n",
       "      Pressure  Wind      Area  T_No  \n",
       "0          984    45  0.726836   3.0  \n",
       "1          983    50  0.980471   3.0  \n",
       "2          982    55  0.986157   3.5  \n",
       "3          980    60  0.984815   3.5  \n",
       "4          982    55  0.986157   3.5  \n",
       "...        ...   ...       ...   ...  \n",
       "5371       999    50  0.374884   3.0  \n",
       "5372       999    50  0.060826   3.0  \n",
       "5373       998    55  0.035787   3.5  \n",
       "5374       997    55  0.850694   3.5  \n",
       "5375       994    55  0.972407   3.5  \n",
       "\n",
       "[5376 rows x 7 columns]"
      ]
     },
     "execution_count": 30,
     "metadata": {},
     "output_type": "execute_result"
    }
   ],
   "source": [
    "imgFreq['ATL']['19V']"
   ]
  },
  {
   "cell_type": "code",
   "execution_count": 3,
   "metadata": {},
   "outputs": [],
   "source": [
    "class Clustering():\n",
    "    def __init__(self,x,clusterSize=2):\n",
    "        self.k = clusterSize\n",
    "        self.m = x.shape[0]\n",
    "        self.p = x.shape[1]\n",
    "        self.x = x\n",
    "        \n",
    "    def Fuzzy_K_Means(self):\n",
    "        self.x = self.x / np.amax(self.x, axis=0)\n",
    "        \n",
    "        prevC = np.random.rand(self.k,self.p)\n",
    "        c = np.zeros((self.k,self.p))\n",
    "        center = {}\n",
    "        rand_center_index = random.sample(range(0, self.m), self.k)\n",
    "        \n",
    "        # Randomly assigning each cluster center\n",
    "        # a unique x (whose index lies from 0 to m)\n",
    "        for j in range(self.k):\n",
    "            c[j,:] = self.x[rand_center_index[j], :] \n",
    "        \n",
    "        print(c.shape)\n",
    "        isConverged = False\n",
    "        apple=0\n",
    "        while not isConverged and apple<=1000:\n",
    "            for j in range(self.k):\n",
    "                center[j] = []\n",
    "                \n",
    "            for i in range(self.m):\n",
    "                # The length of this list will be K same as number of cluster\n",
    "                similarity = []\n",
    "                for j in range(self.k):\n",
    "                    #Calculate Fuzzy Similarity\n",
    "                    fs = FuzzySimilarity(self.x[i,:],c[j,:])\n",
    "                    similarity.append( fs )\n",
    "\n",
    "                # Assigning image(index) to unique cluster based on\n",
    "                # Max similarity value\n",
    "                index = similarity.index(max(similarity))\n",
    "                center[index].append(i)\n",
    "\n",
    "            # Updating cluster center\n",
    "            for j in range(self.k):\n",
    "                total = np.zeros((1,self.p))  \n",
    "                # Iterating through each images in this unique cluster\n",
    "                for i in center[j]:\n",
    "                    total[0,:] += self.x[i,:]\n",
    "                c[j,:] = total/len(center[j])\n",
    "                \n",
    "            if (prevC == c).all():\n",
    "                isConverged = True\n",
    "            apple+=1     \n",
    "            prevC = copy.deepcopy(c)\n",
    "        \n",
    "            print(apple)\n",
    "        return center, c"
   ]
  },
  {
   "cell_type": "code",
   "execution_count": 4,
   "metadata": {},
   "outputs": [],
   "source": [
    "imgFreq = {}\n",
    "fList = ['19H','19V','22V','37V','37H','91H','91V','150H','183_1H','183_3H','183_7H']\n",
    "rList = ['ATL','CPAC','EPAC','IO','SHEM','WPAC']\n",
    "for r in rList:\n",
    "    imgFreq[r] = {}\n",
    "    for f in fList:\n",
    "        imgFreq[r][f] = pd.read_csv(\"..//ImagesPerFreq//\"+r+\"_\"+f+'.csv')\n",
    "        del imgFreq[r][f]['Unnamed: 0']"
   ]
  },
  {
   "cell_type": "code",
   "execution_count": 5,
   "metadata": {},
   "outputs": [],
   "source": [
    "atl_19h = imgFreq['ATL']['19H'].loc[imgFreq['ATL']['19H']['Area'] >= 0.90]\n",
    "atl_183_1h = imgFreq['ATL']['183_1H'].loc[imgFreq['ATL']['183_1H']['Area'] >= 0.90]"
   ]
  },
  {
   "cell_type": "code",
   "execution_count": 6,
   "metadata": {},
   "outputs": [],
   "source": [
    "with open('atl_183_1h_matrix.pkl', 'rb') as file:\n",
    "    matOfImages = dill.load(file)"
   ]
  },
  {
   "cell_type": "code",
   "execution_count": null,
   "metadata": {},
   "outputs": [],
   "source": [
    "cL = Clustering(matOfImages[:,0:np.size(matOfImages,axis=1)-2],7)\n",
    "center, c = cL.Fuzzy_K_Means()"
   ]
  },
  {
   "cell_type": "code",
   "execution_count": null,
   "metadata": {},
   "outputs": [],
   "source": []
  },
  {
   "cell_type": "markdown",
   "metadata": {},
   "source": [
    "Testing"
   ]
  },
  {
   "cell_type": "code",
   "execution_count": null,
   "metadata": {},
   "outputs": [],
   "source": [
    "img_cv = cv2.imread(\"test.png\",cv2.IMREAD_UNCHANGED)  \n",
    "img_cv = cv2.resize(img_cv, (360,360))\n",
    "gray_cv = cv2.cvtColor(img_cv, cv2.COLOR_BGR2GRAY)"
   ]
  },
  {
   "cell_type": "code",
   "execution_count": null,
   "metadata": {},
   "outputs": [],
   "source": [
    "# Output img with window name as 'image' \n",
    "cv2.imshow('image', g2)  \n",
    "cv2.waitKey(0)\n",
    "cv2.destroyAllWindows()"
   ]
  },
  {
   "cell_type": "code",
   "execution_count": null,
   "metadata": {},
   "outputs": [],
   "source": [
    "flatten = gray_cv.flatten()"
   ]
  },
  {
   "cell_type": "code",
   "execution_count": null,
   "metadata": {},
   "outputs": [],
   "source": [
    "newGray = np.reshape(flatten,(360,360))"
   ]
  },
  {
   "cell_type": "code",
   "execution_count": null,
   "metadata": {},
   "outputs": [],
   "source": [
    "g1 = matOfImages[0,0:129600]\n",
    "g1 = g1/255\n",
    "g1 = g1*255"
   ]
  },
  {
   "cell_type": "code",
   "execution_count": null,
   "metadata": {},
   "outputs": [],
   "source": [
    "g2 = np.reshape(g1, (360,360)).astype(np.uint8)"
   ]
  },
  {
   "cell_type": "code",
   "execution_count": null,
   "metadata": {},
   "outputs": [],
   "source": [
    "g2"
   ]
  },
  {
   "cell_type": "code",
   "execution_count": null,
   "metadata": {},
   "outputs": [],
   "source": [
    "import shutil\n",
    "for k,v in center.items():\n",
    "    for i in v:\n",
    "        shutil.copy(atl_183_1H.iloc[i,0], '..\\\\..\\\\AllFrequencies\\\\ATL\\\\183_1H\\\\'+str(k) )"
   ]
  },
  {
   "cell_type": "code",
   "execution_count": null,
   "metadata": {},
   "outputs": [],
   "source": [
    "newC = np.reshape(matOfImages[0,0:129600], (360,360))\n",
    "newC.astype(int)"
   ]
  },
  {
   "cell_type": "code",
   "execution_count": null,
   "metadata": {},
   "outputs": [],
   "source": []
  },
  {
   "cell_type": "code",
   "execution_count": null,
   "metadata": {},
   "outputs": [],
   "source": []
  },
  {
   "cell_type": "code",
   "execution_count": null,
   "metadata": {},
   "outputs": [],
   "source": []
  },
  {
   "cell_type": "code",
   "execution_count": null,
   "metadata": {},
   "outputs": [],
   "source": []
  },
  {
   "cell_type": "code",
   "execution_count": null,
   "metadata": {},
   "outputs": [],
   "source": []
  }
 ],
 "metadata": {
  "kernelspec": {
   "display_name": "Python 3",
   "language": "python",
   "name": "python3"
  },
  "language_info": {
   "codemirror_mode": {
    "name": "ipython",
    "version": 3
   },
   "file_extension": ".py",
   "mimetype": "text/x-python",
   "name": "python",
   "nbconvert_exporter": "python",
   "pygments_lexer": "ipython3",
   "version": "3.7.4"
  }
 },
 "nbformat": 4,
 "nbformat_minor": 2
}
