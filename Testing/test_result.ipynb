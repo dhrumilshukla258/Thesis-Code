{
 "cells": [
  {
   "cell_type": "code",
   "execution_count": 23,
   "metadata": {},
   "outputs": [],
   "source": [
    "import matplotlib.pyplot as plt\n",
    "import pandas as pd\n",
    "import numpy as np\n",
    "import shutil\n",
    "import copy\n",
    "import cv2\n",
    "import os\n",
    "import re"
   ]
  },
  {
   "cell_type": "markdown",
   "metadata": {},
   "source": [
    "Reading TestInfo for each TestResult"
   ]
  },
  {
   "cell_type": "code",
   "execution_count": 2,
   "metadata": {},
   "outputs": [],
   "source": [
    "imgFreq = {}\n",
    "#,'CPAC','EPAC','IO','SHEM','WPAC'\n",
    "#,\n",
    "freqList = ['19H','19V','19','22V','37V','37H','37','91H','91V','91','150H','183_1H','183_3H','183_7H']\n",
    "regList = ['ATL']\n",
    "funList = ['agglo',\"kmeans\",\"fuzzykmeans\"]\n",
    "for reg in regList:\n",
    "    imgFreq[reg] = {}\n",
    "    for freq in freqList:\n",
    "        imgFreq[reg][freq] = {}\n",
    "        for fun in funList:\n",
    "            path = \"..//..//AllFrequencies//\"+reg+\"//\"+freq+\"//\"+fun+\"//\"\n",
    "            imgFreq[reg][freq][fun] = {}\n",
    "            ls = os.listdir(path)\n",
    "            for test in ls:\n",
    "                imgFreq[reg][freq][fun][test] = pd.read_csv(path+test+\"//testInfo.csv\")"
   ]
  },
  {
   "cell_type": "markdown",
   "metadata": {},
   "source": [
    "Creating Composite Images For Each Cluster"
   ]
  },
  {
   "cell_type": "code",
   "execution_count": 47,
   "metadata": {},
   "outputs": [],
   "source": [
    "def MakeDir(path):\n",
    "    if os.path.isdir(path) == False:\n",
    "        os.mkdir(path)\n",
    "\n",
    "class TestResults():\n",
    "    def __init__(self,df,path):\n",
    "        self.mDf = copy.deepcopy(df[df.SilhouetteVal > 0])\n",
    "        self.mPath = path\n",
    "    \n",
    "    def Paste_Images(self):\n",
    "        for i,r in self.mDf.iterrows():\n",
    "            cL_path = self.mPath+str(r.ClusterLabel)+\"//\"\n",
    "            imgName = r.FileName.split(\"//\")[8]\n",
    "            \n",
    "            # Original Image File Path\n",
    "            actualFile = cL_path+imgName\n",
    "            \n",
    "            # Copied at the cluster label where it belongs\n",
    "            shutil.copy( r.FileName,cL_path )\n",
    "            \n",
    "            # Renaming the copied file : This helps us to visually understand which intensity belongs to a particular image\n",
    "            # Old name : imgName\n",
    "            # New name : imgIntensity_imgName\n",
    "            t_no= str(r.T_No).replace(\".\",\"-\")\n",
    "            renameFile = cL_path+t_no+\"_\"+imgName[:len(imgName)-4]+\".png\"\n",
    "            try:\n",
    "                os.rename(actualFile,renameFile)\n",
    "            except WindowsError:\n",
    "                os.remove(renameFile)\n",
    "                os.rename(actualFile,renameFile)\n",
    "    \n",
    "    def Create_Histogram_Images(self):\n",
    "        \n",
    "        cluster_labels = self.mDf.ClusterLabel.unique()\n",
    "        t_no_labels = self.mDf.T_No.unique()\n",
    "\n",
    "        cL_path = path+\"Cluster_Label\"\n",
    "        MakeDir(cL_path)\n",
    "        cL_path+=\"//\"\n",
    "\n",
    "        tno_path = path+\"T_No_Label\"\n",
    "        MakeDir(tno_path)\n",
    "        tno_path+=\"//\"\n",
    "\n",
    "        for t_no in t_no_labels:\n",
    "            x = self.mDf[ self.mDf.T_No == t_no ]        \n",
    "            plt.xlim(min(cluster_labels),max(cluster_labels))\n",
    "            plt.xlabel(\"Cluster_Label - per each T_No\")\n",
    "            plt.ylabel(\"No_of_Images\")\n",
    "            plt.hist(x.ClusterLabel)\n",
    "            plt.savefig(tno_path+str(t_no)+\".png\")\n",
    "            plt.close()\n",
    "\n",
    "        for cL in cluster_labels:\n",
    "            x = self.mDf[ self.mDf.ClusterLabel == cL ]\n",
    "            plt.xlim(0,9)\n",
    "            plt.xlabel(\"T_No - per each cluster\") # Text for X-Axis\n",
    "            plt.ylabel(\"No_of_Images\")\n",
    "            plt.hist(x.T_No)\n",
    "            plt.savefig(cL_path+str(cL)+\".png\")\n",
    "            plt.close()\n",
    "    \n",
    "    def Composite_Images(self,w=360):\n",
    "        MakeDir(self.mPath+\"Composite_Images\")\n",
    "        cluster_labels = self.mDf.ClusterLabel.unique()\n",
    "        for cL in cluster_labels:\n",
    "            \n",
    "            cluster_df = self.mDf[ self.mDf.ClusterLabel == cL ]\n",
    "            \n",
    "            comp_img = np.zeros((w,w,3))\n",
    "            for i,r in cluster_df.iterrows():\n",
    "                \n",
    "                # Read ImageFiles and Not Considering Alpha Value just BGR is considered\n",
    "                img_cv = 0\n",
    "                try:\n",
    "                    img_cv = cv2.imread(r.FileName) \n",
    "                except:\n",
    "                    print(\"Error in reading Image: \",r.FileName)\n",
    "                \n",
    "                try:\n",
    "                    img_cv = cv2.resize(img_cv, (w,w) )\n",
    "                except:\n",
    "                    print(\"Resize Image Error: \",r.FileName)\n",
    "                \n",
    "                comp_img += img_cv\n",
    "            comp_img /= len(cluster_df)\n",
    "\n",
    "            cv2.imwrite(self.mPath+\"Composite_Images//\"+str(cL)+\".png\",comp_img.astype(np.uint8))"
   ]
  },
  {
   "cell_type": "code",
   "execution_count": 49,
   "metadata": {},
   "outputs": [
    {
     "data": {
      "text/plain": [
       "'\\nreg = \\'ATL\\'\\nfreq = \\'91\\'\\nfun = \\'agglo\\'\\ntest = \\'Test_14\\'\\ndf = imgFreq[reg][freq][fun][test]\\npath = \"..//..//AllFrequencies//\"+reg+\"//\"+freq+\"//\"+fun+\"//\"+test+\"//\"\\n\\n'"
      ]
     },
     "execution_count": 49,
     "metadata": {},
     "output_type": "execute_result"
    }
   ],
   "source": [
    "for reg in regList:\n",
    "    for freq in freqList:\n",
    "        for fun in funList:\n",
    "            for test,df in imgFreq[reg][freq][fun].items():   \n",
    "                path = \"..//..//AllFrequencies//\"+reg+\"//\"+freq+\"//\"+fun+\"//\"+test+\"//\"\n",
    "                tR = TestResults(df,path)\n",
    "                tR.Composite_Images()\n",
    "                #tR.Create_Histogram_Images()\n",
    "'''\n",
    "reg = 'ATL'\n",
    "freq = '91'\n",
    "fun = 'agglo'\n",
    "test = 'Test_14'\n",
    "df = imgFreq[reg][freq][fun][test]\n",
    "path = \"..//..//AllFrequencies//\"+reg+\"//\"+freq+\"//\"+fun+\"//\"+test+\"//\"\n",
    "\n",
    "'''"
   ]
  },
  {
   "cell_type": "code",
   "execution_count": 50,
   "metadata": {},
   "outputs": [
    {
     "data": {
      "text/plain": [
       "array([[[ 12,  24,  11],\n",
       "        [  0,   0,   0],\n",
       "        [  0,   0,   0],\n",
       "        ...,\n",
       "        [  0,   0,   0],\n",
       "        [  0,   0,   0],\n",
       "        [  0,   0,   0]],\n",
       "\n",
       "       [[  0,   0,   0],\n",
       "        [116, 227, 102],\n",
       "        [123, 241, 108],\n",
       "        ...,\n",
       "        [127, 241, 105],\n",
       "        [127, 241, 105],\n",
       "        [151, 227,  68]],\n",
       "\n",
       "       [[  0,   0,   0],\n",
       "        [123, 241, 108],\n",
       "        [131, 255, 115],\n",
       "        ...,\n",
       "        [170, 255,  77],\n",
       "        [170, 255,  77],\n",
       "        [160, 241,  72]],\n",
       "\n",
       "       ...,\n",
       "\n",
       "       [[  0,   0,   0],\n",
       "        [151, 241,  81],\n",
       "        [160, 255,  86],\n",
       "        ...,\n",
       "        [255, 255, 255],\n",
       "        [255, 255, 255],\n",
       "        [241, 241, 241]],\n",
       "\n",
       "       [[  0,   0,   0],\n",
       "        [209, 241,  23],\n",
       "        [222, 255,  25],\n",
       "        ...,\n",
       "        [255, 255, 255],\n",
       "        [255, 255, 255],\n",
       "        [241, 241, 241]],\n",
       "\n",
       "       [[  0,   0,   0],\n",
       "        [197, 227,  22],\n",
       "        [209, 241,  23],\n",
       "        ...,\n",
       "        [241, 241, 241],\n",
       "        [241, 241, 241],\n",
       "        [227, 227, 227]]], dtype=uint8)"
      ]
     },
     "execution_count": 50,
     "metadata": {},
     "output_type": "execute_result"
    }
   ],
   "source": [
    "cv2.imread(\"..//..//MyCreatedData//5//ATL//29//F16//19//20051123T113200_SSMIS_F16.png\")"
   ]
  },
  {
   "cell_type": "code",
   "execution_count": null,
   "metadata": {},
   "outputs": [],
   "source": []
  },
  {
   "cell_type": "markdown",
   "metadata": {},
   "source": [
    "def RemovePastedImagesFrom(path=\"..//..//AllFrequencies//\"):\n",
    "    for root, dirs, files in os.walk(path):\n",
    "        for name in files:\n",
    "            if \"dend\" in name or \"clust\" in name or \"test\" in name:\n",
    "                continue\n",
    "            os.remove(os.path.join(root, name))\n",
    "\n",
    "def RemoveImages(reg,freq,fun,test):\n",
    "    path = \"..//..//AllFrequencies//\"+reg+\"//\"+freq+\"//\"+fun+\"//\"+test+\"//\"\n",
    "    RemovePastedImages(path)"
   ]
  },
  {
   "cell_type": "markdown",
   "metadata": {},
   "source": [
    "#RemovePastedImagesFrom(imgFreq,'ATL','19','agglo','Test_0')\n",
    "for reg in regList:\n",
    "    for freq in freqList:\n",
    "        for fun in funList:\n",
    "            for test,df in imgFreq[reg][freq][fun].items():\n",
    "                RemoveImages(reg,freq,fun,test)\n",
    "                break\n",
    "            break\n",
    "        break\n",
    "    break"
   ]
  },
  {
   "cell_type": "code",
   "execution_count": null,
   "metadata": {},
   "outputs": [],
   "source": [
    "for reg in regList:\n",
    "    for freq in freqList:\n",
    "        for fun in funList:\n",
    "            path = \"..//..//AllFrequencies//\"+reg+\"//\"+freq+\"//\"+fun+\"//Test_14//\"\n",
    "            PasteImages( imgFreq[reg][freq][fun][0], path )\n",
    "            \n",
    "'''reg = 'ATL'\n",
    "freq = '19H'\n",
    "fun = 'kmeans'\n",
    "'''"
   ]
  },
  {
   "cell_type": "code",
   "execution_count": null,
   "metadata": {},
   "outputs": [],
   "source": [
    "temp = imgFreq[\"ATL\"][\"91\"][\"agglo\"][0][ imgFreq[\"ATL\"][\"91\"][\"agglo\"][0].ClusterLabel == 2 ]\n",
    "temp[ temp.SilhouetteVal > 0.1 ]"
   ]
  },
  {
   "cell_type": "code",
   "execution_count": null,
   "metadata": {},
   "outputs": [],
   "source": [
    "imgFreq[reg][freq][fun][0]"
   ]
  },
  {
   "cell_type": "code",
   "execution_count": null,
   "metadata": {},
   "outputs": [],
   "source": [
    "#for reg in regList:\n",
    "    #for freq in freqList:\n",
    "\n",
    "reg = 'ATL'\n",
    "freq = '19'\n",
    "path = \"..//..//AllFrequencies//\"+reg+\"//\"+freq+\"//\"+\"agglo//Test_14//\"\n",
    "PasteImages( imgFreq[reg][freq][\"agglo\"][0], path )\n"
   ]
  },
  {
   "cell_type": "markdown",
   "metadata": {},
   "source": [
    "Creating a Zip file of all the specific folders"
   ]
  },
  {
   "cell_type": "code",
   "execution_count": null,
   "metadata": {},
   "outputs": [],
   "source": [
    "from zipfile import ZipFile\n",
    "reg = 'ATL'\n",
    "freq = '91'\n",
    "zipObj = ZipFile(reg+\"_\"+freq+\"_agglo_test_14.zip\", 'w')\n",
    "path = \"..//..//AllFrequencies//\"+reg+\"//\"+freq+\"//\"+\"agglo//Test_14//\"\n",
    "for folderName, subfolders, filenames in os.walk(path):\n",
    "    for filename in filenames:\n",
    "        #create complete filepath of file in directory\n",
    "        filePath = os.path.join(folderName, filename)\n",
    "        print(filePath)\n",
    "        zipObj.write(filePath)\n",
    "zipObj.close()"
   ]
  },
  {
   "cell_type": "code",
   "execution_count": null,
   "metadata": {},
   "outputs": [],
   "source": [
    "from zipfile import ZipFile\n",
    "\n",
    "for reg in regList:\n",
    "    zipObj = ZipFile(reg+'agglo_test_14.zip', 'w')\n",
    "    for freq in freqList:\n",
    "        path = \"..//..//AllFrequencies//\"+reg+\"//\"+freq+\"//\"+\"agglo//Test_14//\"\n",
    "        for folderName, subfolders, filenames in os.walk(path):\n",
    "            for filename in filenames:\n",
    "                #create complete filepath of file in directory\n",
    "                filePath = os.path.join(folderName, filename)\n",
    "                zipObj.write(filePath)\n",
    "    zipObj.close()"
   ]
  },
  {
   "cell_type": "markdown",
   "metadata": {},
   "source": [
    "Code Below aims at finding common images among multiple frequencies"
   ]
  },
  {
   "cell_type": "code",
   "execution_count": null,
   "metadata": {},
   "outputs": [],
   "source": [
    "def Test( df ):\n",
    "    df = copy.deepcopy(df[df.SilhouetteVal > 0])\n",
    "    imgCol = []\n",
    "    for i,r in df.iterrows():\n",
    "        imgCol.append( r.FileName.split(\"//\")[9]  )\n",
    "    df['ImgName'] = imgCol \n",
    "    return df\n",
    "\n",
    "def CompareTest( df1, df2 ):\n",
    "    df = df1.merge(df2, left_on='ImgName', right_on='ImgName')\n",
    "    \n",
    "    return pd.DataFrame({\"ImgName\":df.ImgName})"
   ]
  },
  {
   "cell_type": "code",
   "execution_count": null,
   "metadata": {},
   "outputs": [],
   "source": [
    "finalDf = {}\n",
    "for reg in regList:\n",
    "    finalDf[reg] = Test( imgFreq[reg][freqList[0]]['agglo'][0] )\n",
    "    for i in range(1,len(freqList)):\n",
    "        finalDf[reg] = CompareTest( finalDf[reg], Test(imgFreq[reg][freqList[i]]['agglo'][0]) )"
   ]
  },
  {
   "cell_type": "code",
   "execution_count": null,
   "metadata": {},
   "outputs": [],
   "source": [
    "finalDf['WPAC']"
   ]
  },
  {
   "cell_type": "code",
   "execution_count": null,
   "metadata": {},
   "outputs": [],
   "source": [
    "df1 = Test( imgFreq['ATL']['19H']['kmeans'][9] )\n",
    "df2 = Test( imgFreq['ATL']['91H']['kmeans'][9] )\n",
    "df3 = Test( imgFreq['ATL']['150H']['kmeans'][9] )\n",
    "df4 = Test( imgFreq['ATL']['183_1H']['kmeans'][9] )\n",
    "\n",
    "df_imgName = CompareTest(df1,df2)\n",
    "df_imgName = CompareTest(df_imgName, df3)\n",
    "df_imgName = CompareTest(df_imgName, df4)\n",
    "\n",
    "df1 = df1.merge( df_imgName, left_on='ImgName', right_on='ImgName' )\n",
    "df2 = df2.merge( df_imgName, left_on='ImgName', right_on='ImgName' )\n",
    "df3 = df3.merge( df_imgName, left_on='ImgName', right_on='ImgName' )\n",
    "df4 = df4.merge( df_imgName, left_on='ImgName', right_on='ImgName' )"
   ]
  },
  {
   "cell_type": "code",
   "execution_count": null,
   "metadata": {},
   "outputs": [],
   "source": []
  },
  {
   "cell_type": "code",
   "execution_count": null,
   "metadata": {},
   "outputs": [],
   "source": []
  },
  {
   "cell_type": "code",
   "execution_count": null,
   "metadata": {},
   "outputs": [],
   "source": []
  },
  {
   "cell_type": "code",
   "execution_count": null,
   "metadata": {},
   "outputs": [],
   "source": []
  },
  {
   "cell_type": "code",
   "execution_count": null,
   "metadata": {},
   "outputs": [],
   "source": []
  },
  {
   "cell_type": "code",
   "execution_count": null,
   "metadata": {},
   "outputs": [],
   "source": [
    "def LabelAndSill(df,silVal, maxLabel):\n",
    "    dr= df[ df.T_No == silVal ]\n",
    "    print(\"-------------------------\")\n",
    "    for i in range(maxLabel):\n",
    "        print(len( dr[ dr.ClusterLabel == i] ) )\n",
    "    ''' \n",
    "    j=0\n",
    "    while j <9.5:\n",
    "        dr=  df[ df.T_No == j ]\n",
    "        maxLab = -1\n",
    "        maxVal = -1\n",
    "        for i in range(maxLabel):\n",
    "            if len(dr[dr.ClusterLabel == i]) > maxVal:\n",
    "                maxVal = len(dr[dr.ClusterLabel == i])\n",
    "                maxLab = i\n",
    "\n",
    "        print(j,maxVal,maxLab )\n",
    "        #dr[dr.ClusterLabel == maxLab]\n",
    "        j+=0.5\n",
    "    '''"
   ]
  },
  {
   "cell_type": "code",
   "execution_count": null,
   "metadata": {},
   "outputs": [],
   "source": [
    "reg = 'ATL'\n",
    "freq = '183_1H'\n",
    "fun = 'kmeans'\n",
    "j = 9\n",
    "path = \"..//..//AllFrequencies//\"+reg+\"//\"+freq+\"//\"+fun+\"//Test_\"+str(j)+\"//\"\n",
    "for i,r in df4.iterrows():\n",
    "    tNo_path = path+str(r.ClusterLabel)+\"//\"+str(r.T_No)\n",
    "    if os.path.isdir(tNo_path) == False:\n",
    "        os.mkdir(tNo_path)\n",
    "    shutil.copy( r.FileName,tNo_path )\n",
    "    \n"
   ]
  },
  {
   "cell_type": "code",
   "execution_count": null,
   "metadata": {},
   "outputs": [],
   "source": [
    "from matplotlib import pyplot as plt\n",
    "import matplotlib.image as mpimage\n",
    "\n",
    "w=10\n",
    "h=10\n",
    "fig=plt.figure(figsize=(8, 8))\n",
    "columns = 3\n",
    "rows = 7\n",
    "for i in range(1, columns*rows +1):\n",
    "    img = np.random.randint(10, size=(h,w))\n",
    "    fig.add_subplot(rows, columns, i)\n",
    "    plt.imshow(img)\n",
    "plt.show()"
   ]
  },
  {
   "cell_type": "code",
   "execution_count": null,
   "metadata": {},
   "outputs": [],
   "source": [
    "reg = 'ATL'\n",
    "freq = '19H'\n",
    "fun = 'kmeans'\n",
    "test = 9\n",
    "df = imgFreq[reg][freq][fun][test]\n",
    "df = df[ df.SilhouetteVal>0.0 ]\n",
    "\n",
    "\n",
    "'''\n",
    "imgCol = []\n",
    "for i,r in df.iterrows():\n",
    "    imgCol.append( r.FileName.split(\"//\")[9]  )\n",
    "df['ImgName'] = imgCol\n",
    "'''\n",
    "\n"
   ]
  },
  {
   "cell_type": "code",
   "execution_count": null,
   "metadata": {},
   "outputs": [],
   "source": [
    "dr = df[ df.T_No == 1.0 ]\n",
    "dr[ dr.ClusterLabel == 0 ].FileName.iloc[3]"
   ]
  },
  {
   "cell_type": "code",
   "execution_count": null,
   "metadata": {},
   "outputs": [],
   "source": [
    "'''\n",
    "def Ans(df):\n",
    "    \n",
    "    uniqueId = sorted(list(df.ClusterLabel_x.unique()))\n",
    "    for label in uniqueId:\n",
    "        tno[label] = {}\n",
    "        df1 = df.T_No[df.ClusterLabel == label]\n",
    "        t1 = list(df1)\n",
    "        i=0\n",
    "        while i <9.5:\n",
    "            tno[label][i] = t1.count(i)\n",
    "            i+=0.5\n",
    "    \n",
    "    newDf = pd.DataFrame(tno)\n",
    "    print(newDf)\n",
    "\n",
    "\n",
    "df = df[ df.Sil]\n",
    "\n",
    "'''\n",
    "\n",
    "\n",
    "    \n",
    "    '''imgCol = []\n",
    "    for i,r in df3.iterrows():\n",
    "        imgCol.append( r.FileName.split(\"//\")[9]  )\n",
    "    df3['ImgName'] = imgCol   \n",
    "    \n",
    "    if (df.T_No_x == df.T_No_y).all():\n",
    "        if (df.T_No_x == df.T_No).all():\n",
    "            print(\"aplee\")\n",
    "    \n",
    "            \n",
    "    \n",
    "    \n",
    "    \n",
    "    return df\n",
    "    '''    \n",
    "    \n",
    "    \n",
    "\n",
    "    '''\n",
    "    label1 = {}\n",
    "    for i,r in t1.iterrows():\n",
    "        if label1.get(r.ClusterLabel) == None:\n",
    "            label1[r.ClusterLabel] = []\n",
    "        label1[r.ClusterLabel].append([r.FileName, r.SilhouetteVal, r.T_No])\n",
    "    \n",
    "    label2 = {}\n",
    "    for i,r in t2.iterrows():\n",
    "        if label2.get(r.ClusterLabel) == None:\n",
    "            label2[r.ClusterLabel] = []\n",
    "        label2[r.ClusterLabel].append([r.FileName, r.SilhouetteVal, r.T_No])\n",
    "    \n",
    "    for k1,v1 in label1.items():\n",
    "        for k2,v2 in label2.items():\n",
    "            \n",
    "            #v1 and v2 are the lists of rows for a particular label\n",
    "            count=0\n",
    "            for l1 in v1:\n",
    "                for l2 in v2:\n",
    "                    if l1[0] == l2[0]:\n",
    "                        count+=1\n",
    "            print(k1,k2,count)\n",
    "    '''"
   ]
  },
  {
   "cell_type": "code",
   "execution_count": null,
   "metadata": {},
   "outputs": [],
   "source": [
    "df1 = imgFreq['ATL']['150H']['agglo'][6]\n",
    "df1 = df1[df1.SilhouetteVal > 0]"
   ]
  },
  {
   "cell_type": "code",
   "execution_count": null,
   "metadata": {},
   "outputs": [],
   "source": [
    "newdf1 = df1.T_No[ df1.ClusterLabel == 4]\n",
    "t1 = list(newdf1)\n",
    "i=0\n",
    "while i <9.5:\n",
    "    print(i, t1.count(i))\n",
    "    i+=0.5\n",
    "print(t1)   "
   ]
  },
  {
   "cell_type": "code",
   "execution_count": null,
   "metadata": {},
   "outputs": [],
   "source": [
    "newdf1 = df2.T_No[ df2.ClusterLabel == 6 ]\n",
    "t1 = list(newdf1)\n",
    "i=0\n",
    "while i <9.0:\n",
    "    print(i, t1.count(i))\n",
    "    i+=0.5"
   ]
  },
  {
   "cell_type": "code",
   "execution_count": null,
   "metadata": {},
   "outputs": [],
   "source": [
    "for i in range(11):\n",
    "    print( len( df1[ (df1['ClusterLabel']==i) ] ) )\n",
    "\n",
    "for i in range(7):\n",
    "    print( len( df[ (df['ClusterLabel_x']==i) ] ) )\n",
    "    \n",
    "for i in range(7):\n",
    "    print( len( imgFreq['ATL']['91H']['fuzzykmeans'][4][ (imgFreq['ATL']['91H']['fuzzykmeans'][9]['ClusterLabel']==i) ] ) )"
   ]
  },
  {
   "cell_type": "code",
   "execution_count": null,
   "metadata": {},
   "outputs": [],
   "source": []
  },
  {
   "cell_type": "code",
   "execution_count": null,
   "metadata": {},
   "outputs": [],
   "source": []
  },
  {
   "cell_type": "code",
   "execution_count": null,
   "metadata": {},
   "outputs": [],
   "source": []
  },
  {
   "cell_type": "code",
   "execution_count": null,
   "metadata": {},
   "outputs": [],
   "source": []
  }
 ],
 "metadata": {
  "kernelspec": {
   "display_name": "Python 3",
   "language": "python",
   "name": "python3"
  },
  "language_info": {
   "codemirror_mode": {
    "name": "ipython",
    "version": 3
   },
   "file_extension": ".py",
   "mimetype": "text/x-python",
   "name": "python",
   "nbconvert_exporter": "python",
   "pygments_lexer": "ipython3",
   "version": "3.8.2"
  }
 },
 "nbformat": 4,
 "nbformat_minor": 2
}
