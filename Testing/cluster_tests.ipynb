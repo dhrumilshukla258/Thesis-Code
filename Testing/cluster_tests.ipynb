{
 "cells": [
  {
   "cell_type": "code",
   "execution_count": 1,
   "metadata": {},
   "outputs": [],
   "source": [
    "import os\n",
    "import cv2\n",
    "import time\n",
    "import copy\n",
    "import math\n",
    "import shutil\n",
    "import logging\n",
    "import numpy as np\n",
    "import pandas as pd"
   ]
  },
  {
   "cell_type": "markdown",
   "metadata": {},
   "source": [
    "Reading all the Img Freq csv files"
   ]
  },
  {
   "cell_type": "code",
   "execution_count": 12,
   "metadata": {},
   "outputs": [],
   "source": [
    "imgFreq = {}\n",
    "fList = ['19H','19V','19','22V','37V','37H','37','91H','91V','91','150H','183_1H','183_3H','183_7H']\n",
    "rList = ['ATL','CPAC','EPAC','IO','SHEM','WPAC']\n",
    "for r in rList:\n",
    "    imgFreq[r] = {}\n",
    "    for f in fList:\n",
    "        imgFreq[r][f] = pd.read_csv(\"..//ImagesPerFreq//\"+r+\"_\"+f+'.csv')"
   ]
  },
  {
   "cell_type": "code",
   "execution_count": 3,
   "metadata": {},
   "outputs": [],
   "source": [
    "logging.basicConfig(filename='..\\\\LogFile\\\\logFile_cluster_4',level=logging.DEBUG)"
   ]
  },
  {
   "cell_type": "code",
   "execution_count": 4,
   "metadata": {},
   "outputs": [],
   "source": [
    "import matplotlib.pyplot as plt\n",
    "mpl_logger = logging.getLogger(\"matplotlib\")\n",
    "mpl_logger.setLevel(logging.WARNING)\n",
    "from scipy import stats\n",
    "import scipy\n",
    "from numpy import zeros, newaxis\n",
    "\n",
    "class Octants():\n",
    "    def __init__(self):\n",
    "        self.o = {}\n",
    "        \n",
    "    def Calculate(self, w, ringsize):\n",
    "        if self.o.get(str(w)+\"_\"+str(ringsize)) != None:\n",
    "            return copy.deepcopy(self.o[str(w)+\"_\"+str(ringsize)])\n",
    "        \n",
    "        #width and height always same\n",
    "        \n",
    "        h=w\n",
    "        arr = np.zeros((w,h),dtype=np.object)\n",
    "        sectionArr = np.zeros((w,h), dtype=int)\n",
    "        for i in range(w):\n",
    "            for j in range(h):\n",
    "                arr[i][j] = ( i-int(w/2), j-int(h/2) )\n",
    "\n",
    "        totalRing = len(ringsize)\n",
    "        section = {}\n",
    "        for i in range(int(totalRing)):\n",
    "            section[i] = {}\n",
    "            for j in range(8):\n",
    "                section[i][j] = []            \n",
    "\n",
    "        t1 = int(w/2)\n",
    "        for k in range(1, int(totalRing+1) ):\n",
    "            t2 = int ( ringsize[k-1]/2 )\n",
    "            newArr = arr[  t1-t2:t1+t2, t1-t2:t1+t2 ]\n",
    "            \n",
    "            cenI = int ( newArr.shape[0]/2 )\n",
    "            cenJ = int ( newArr.shape[1]/2 )\n",
    "            preRing = int( ringsize[k-2]/2 )\n",
    "            curRing = t2\n",
    "            \n",
    "            for i in range(newArr.shape[0]):\n",
    "                for j in range(newArr.shape[1]):\n",
    "                    \n",
    "                    distance = math.sqrt( ( ( cenI-i)**2 ) + ( (cenJ-j)**2 ) )\n",
    "                    \n",
    "                    \n",
    "                    if k==totalRing:\n",
    "                        if distance < preRing:\n",
    "                            continue\n",
    "                    elif k==1:\n",
    "                        if distance>=curRing:\n",
    "                            continue\n",
    "                    else:\n",
    "                        if distance < preRing or distance>=curRing:\n",
    "                            continue\n",
    "                    \n",
    "                    angle = math.atan2( newArr[i][j][1], newArr[i][j][0] ) * 180 / np.pi\n",
    "                    angle+=180\n",
    "                    angle%=360\n",
    "\n",
    "                    #Adding it in octants\n",
    "                    if angle >= 0 and angle < 45:\n",
    "                        section[k-1][0].append( ( newArr[i,j][0]+int(w/2), newArr[i,j][1]+int(h/2) ) )\n",
    "                    elif angle >= 45 and angle < 90:\n",
    "                        section[k-1][1].append( ( newArr[i,j][0]+int(w/2), newArr[i,j][1]+int(h/2) ) )\n",
    "                    elif angle >= 90 and angle < 135:\n",
    "                        section[k-1][2].append( ( newArr[i,j][0]+int(w/2), newArr[i,j][1]+int(h/2) ) )\n",
    "                    elif angle >= 135 and angle < 180:\n",
    "                        section[k-1][3].append( ( newArr[i,j][0]+int(w/2), newArr[i,j][1]+int(h/2) ) )\n",
    "                    elif angle >= 180 and angle < 225:\n",
    "                        section[k-1][4].append( ( newArr[i,j][0]+int(w/2), newArr[i,j][1]+int(h/2) ) )\n",
    "                    elif angle >= 225 and angle < 270:\n",
    "                        section[k-1][5].append( ( newArr[i,j][0]+int(w/2), newArr[i,j][1]+int(h/2) ) )\n",
    "                    elif angle >= 270 and angle < 315:\n",
    "                        section[k-1][6].append( ( newArr[i,j][0]+int(w/2), newArr[i,j][1]+int(h/2) ) )\n",
    "                    elif angle >= 315 and angle < 360:\n",
    "                        section[k-1][7].append( ( newArr[i,j][0]+int(w/2), newArr[i,j][1]+int(h/2) ) )\n",
    "    \n",
    "        \n",
    "        \n",
    "        app = {}\n",
    "        totalSection = 0\n",
    "        for i in range(totalRing):\n",
    "            app[i] = {}\n",
    "            for j in range(8):\n",
    "                if app[i].get(j) == None:\n",
    "                    app[i][j]=totalSection\n",
    "                    totalSection+=1\n",
    "\n",
    "        for i in range(totalRing):\n",
    "            for j in range(8):\n",
    "                for k in section[i][j]:\n",
    "                    sectionArr[k[0],k[1]] = int(app[i][j])\n",
    "\n",
    "        self.o[str(w)+\"_\"+str(ringsize)] = (sectionArr, totalSection )\n",
    "        \n",
    "        return copy.deepcopy(self.o[str(w)+\"_\"+str(ringsize)])\n",
    "    \n",
    "    def Draw(self,w,ringsize):\n",
    "        if self.o.get(str(w)+\"_\"+str(ringsize)) != None:\n",
    "            sectionArr, totalSection = self.o[str(w)+\"_\"+str(ringsize)]\n",
    "        else:\n",
    "            sectionArr, totalSection = self.Calculate( w, ringsize )\n",
    "        \n",
    "        #Code to print the maps of octants\n",
    "        x = {}\n",
    "        y = {}\n",
    "        for i in range(w):\n",
    "            for j in range(w):\n",
    "                if x.get(sectionArr[i][j]) == None:\n",
    "                    x[sectionArr[i][j]] = []\n",
    "                if y.get(sectionArr[i][j]) == None:\n",
    "                    y[sectionArr[i][j]] = []\n",
    "                x[sectionArr[i][j]].append(i)\n",
    "                y[sectionArr[i][j]].append(j)\n",
    "\n",
    "        for k in range(totalSection):\n",
    "            plt.scatter(x[k], y[k])\n",
    "       \n",
    "                \n",
    "    def Parameters(self, matrix, w, ringsize, channel):\n",
    "        if self.o.get(str(w)+\"_\"+str(ringsize)) != None:\n",
    "            sectionArr, totalSection = copy.deepcopy(self.o[str(w)+\"_\"+str(ringsize)])\n",
    "        else:\n",
    "            sectionArr, totalSection = self.Calculate( w, ringsize )\n",
    "        \n",
    "        param = np.zeros(( totalSection*6*channel ))\n",
    "        if channel == 1:\n",
    "            mainMap = cv2.cvtColor(matrix, cv2.COLOR_BGR2GRAY).flatten()\n",
    "            sectionArr = sectionArr.flatten()\n",
    "            \n",
    "            t = 0\n",
    "            for i in range(totalSection):\n",
    "                result = np.where(sectionArr == i)\n",
    "                miniArr = mainMap[result]\n",
    "                param[t] = np.subtract(*np.percentile(miniArr, [75, 25]))\n",
    "                param[t+1] = np.mean(miniArr)\n",
    "                param[t+2] = np.median(miniArr)\n",
    "                param[t+3] = np.std(miniArr) \n",
    "                param[t+4] = np.min(miniArr)\n",
    "                param[t+5] = np.max(miniArr)\n",
    "                t+=6\n",
    "\n",
    "        else:\n",
    "            mainMap = matrix\n",
    "            \n",
    "            t = 0\n",
    "            for i in range(totalSection):\n",
    "                result = np.where(sectionArr == i)\n",
    "                miniArr = img_cv[result]\n",
    "                for j in range(3):\n",
    "                    param[t] = np.subtract(*np.percentile(miniArr[:,j], [75, 25]))\n",
    "                    param[t+1] = np.mean(miniArr[:,j])\n",
    "                    param[t+2] = np.median(miniArr[:,j])\n",
    "                    param[t+3] = np.std(miniArr[:,j]) \n",
    "                    param[t+4] = np.min(miniArr[:,j])\n",
    "                    param[t+5] = np.max(miniArr[:,j])\n",
    "                    t+=6\n",
    "        \n",
    "        return param"
   ]
  },
  {
   "cell_type": "code",
   "execution_count": 5,
   "metadata": {},
   "outputs": [],
   "source": [
    "octa = Octants()"
   ]
  },
  {
   "cell_type": "code",
   "execution_count": 6,
   "metadata": {},
   "outputs": [
    {
     "data": {
      "image/png": "[encoded data removed]",
      "text/plain": [
       "<Figure size 432x288 with 1 Axes>"
      ]
     },
     "metadata": {
      "needs_background": "light"
     },
     "output_type": "display_data"
    }
   ],
   "source": [
    "sectionArr, totalSection = octa.Calculate(360,[10,20,30,40,50,60,80,100,120,140,170,200,230,260,270,300,330,361])\n",
    "octa.Draw(360,[10,20,30,40,50,60,80,100,120,140,170,200,230,260,270,300,330,361])"
   ]
  },
  {
   "cell_type": "code",
   "execution_count": 7,
   "metadata": {},
   "outputs": [
    {
     "data": {
      "image/png": "[encoded data removed]",
      "text/plain": [
       "<Figure size 432x288 with 1 Axes>"
      ]
     },
     "metadata": {
      "needs_background": "light"
     },
     "output_type": "display_data"
    }
   ],
   "source": [
    "octa.Draw(120,[5,10,15,20,25,30,35,40,50,60,70,90,121])"
   ]
  },
  {
   "cell_type": "code",
   "execution_count": 8,
   "metadata": {},
   "outputs": [
    {
     "data": {
      "text/plain": [
       "array([[137, 136, 136, ..., 143, 143, 143],\n",
       "       [137, 137, 136, ..., 143, 143, 143],\n",
       "       [137, 137, 137, ..., 143, 143, 142],\n",
       "       ...,\n",
       "       [138, 138, 138, ..., 141, 141, 141],\n",
       "       [138, 138, 139, ..., 140, 141, 141],\n",
       "       [138, 139, 139, ..., 140, 140, 141]])"
      ]
     },
     "execution_count": 8,
     "metadata": {},
     "output_type": "execute_result"
    }
   ],
   "source": [
    "sectionArr"
   ]
  },
  {
   "cell_type": "code",
   "execution_count": 9,
   "metadata": {},
   "outputs": [],
   "source": [
    "class TestDataSelection():\n",
    "    global octa\n",
    "    def __init__( self, _df, area, resolution, channel, ringsize ):\n",
    "        # Consider area according to criteria below\n",
    "        self.df = _df.loc[_df['Area'] >= area]\n",
    "        \n",
    "        self.w = resolution[0]\n",
    "        self.h = resolution[1]\n",
    "        self.channel = channel\n",
    "        self.ringsize = ringsize\n",
    "        \n",
    "    def StartSelection(self):\n",
    "        if self.ringsize != 0:\n",
    "            return self.__Octant()\n",
    "        else:\n",
    "            return self.__AllPixel()\n",
    "    \n",
    "    def __Octant(self):\n",
    "\n",
    "        section, totalSection = octa.Calculate(self.w, self.ringsize)\n",
    "        \n",
    "        # Here instead of considering all pixels we consider statistical value of each sections\n",
    "        # 8 is the image divided in octants\n",
    "        # 6 is total statistical values like mean, median, maximum, minimum, standard deviation \n",
    "        # and interquartile range for each section\n",
    "        matOfImages = np.zeros( ( len(self.df), ( self.channel * totalSection * 6 ) ) )\n",
    "        \n",
    "        i = 0\n",
    "        for index, row in self.df.iterrows():\n",
    "            imgName = row[0]\n",
    "\n",
    "            # Read ImageFiles and Not Considering Alpha Value just BGR is considered\n",
    "            img_cv = cv2.imread(imgName) \n",
    "            img_cv = cv2.resize(img_cv, (self.w, self.h) )\n",
    "            \n",
    "            matOfImages[i] = octa.Parameters(img_cv, self.w, self.ringsize, self.channel)\n",
    "            i+=1\n",
    "        \n",
    "        return matOfImages, self.df\n",
    "    \n",
    "    def __AllPixel(self):\n",
    "        # Creating Matrix of Images, each image considers all pixels\n",
    "        # +2 removed\n",
    "        matOfImages = np.zeros( ( len(df), ( self.channel * self.w * self.h ) ) )\n",
    "\n",
    "        i = 0\n",
    "        for index, row in self.df.iterrows():\n",
    "            imgName = row[0]\n",
    "\n",
    "            # Read ImageFiles and Not Considering Alpha Value just BGR is considered\n",
    "            img_cv = cv2.imread(imgName) \n",
    "            img_cv = cv2.resize(img_cv, (self.w, self.h) )\n",
    "\n",
    "            if channel == 1:\n",
    "                mainMap = cv2.cvtColor(img_cv, cv2.COLOR_BGR2GRAY).flatten()\n",
    "            else:\n",
    "                mainMap = img_cv.flatten()\n",
    "\n",
    "            #alldata = np.append(mainMap, [row[3],row[4]], axis=0)\n",
    "            matOfImages[i] = mainMap\n",
    "            i+=1\n",
    "        \n",
    "        return matOfImages, self.df"
   ]
  },
  {
   "cell_type": "code",
   "execution_count": 10,
   "metadata": {},
   "outputs": [],
   "source": [
    "from sklearn.metrics import silhouette_samples, silhouette_score\n",
    "from scipy.cluster.hierarchy import dendrogram, linkage, fcluster\n",
    "from sklearn.cluster import KMeans\n",
    "\n",
    "from matplotlib import pyplot as plt\n",
    "mpl_logger = logging.getLogger(\"matplotlib\")\n",
    "mpl_logger.setLevel(logging.WARNING)\n",
    "\n",
    "import numpy as np\n",
    "import json\n",
    "import random\n",
    "import copy\n",
    "import math\n",
    "\n",
    "def FuzzySimilarity(x,c):\n",
    "    #x [ 1, 2 ,3 ,4 ] c[ 0 ,1 ,2 ,3]\n",
    "    \n",
    "    \n",
    "    A = np.minimum(x,c)\n",
    "    B = np.maximum(x,c)\n",
    "    return (np.sum(A) + 1) / (np.sum(B) + 2)\n",
    "\n",
    "class Clustering():\n",
    "    def __init__(self,x,clusterSize=2,max_iter=300):\n",
    "        self.k = clusterSize\n",
    "        self.m = x.shape[0]\n",
    "        self.p = x.shape[1]\n",
    "        self.x = x\n",
    "        self.norm_x = self.x / np.amax(self.x, axis=0)\n",
    "        self.max_iter = max_iter\n",
    "        self.n_iter = 0\n",
    "        self.labels = []\n",
    "        self.cluster_centers = np.zeros((self.k,self.p))\n",
    "\n",
    "    def Fuzzy_K_Means(self,w1=1.0,w2=1.0,w3=1.0):\n",
    "        prevC = np.random.rand(self.k,self.p)\n",
    "        rand_center_index = random.sample(range(0, self.m), self.k)\n",
    "        \n",
    "        # Randomly assigning each cluster center\n",
    "        # a unique x (whose index lies from 0 to m)\n",
    "        for j in range(self.k):\n",
    "            self.cluster_centers[j,:] = self.norm_x[rand_center_index[j],:] \n",
    "        \n",
    "        for i in range(self.m):\n",
    "            self.labels.append(0)\n",
    "\n",
    "        isConverged = False\n",
    "        while not isConverged and self.n_iter<self.max_iter:\n",
    "            #Assigning each images, cluster where it belongs \n",
    "            for i in range(self.m):    \n",
    "                maxSimilarity = -math.inf\n",
    "                index = -1\n",
    "                for j in range(self.k):\n",
    "                    #Calculating Similarity for Image, Pressure and Wind\n",
    "                    #s1 = FuzzySimilarity(self.norm_x[i,0:self.p-2],self.cluster_centers[j,0:self.p-2])\n",
    "                    #s2 = FuzzySimilarity(self.norm_x[i,self.p-2:self.p-1],self.cluster_centers[j,self.p-2:self.p-1])\n",
    "                    #s3 = FuzzySimilarity(self.norm_x[i,self.p-1:self.p],self.cluster_centers[j,self.p-1:self.p])\n",
    "                    #fs = ( (w1*s1) + (w2*s2) + (w3*s3) ) / (w1+w2+w3)\n",
    "                    fs = FuzzySimilarity(self.norm_x[i,:],self.cluster_centers[j,:])\n",
    "                    if maxSimilarity < fs:\n",
    "                        maxSimilarity = fs\n",
    "                        index = j\n",
    "\n",
    "                # Assigning cluster(1...k) to each images based on MaxSimilarity value\n",
    "                self.labels[i] = index\n",
    "\n",
    "\n",
    "            # Iterating through each images\n",
    "            # Each labels determine unique cluster, images are assigned to\n",
    "            total = np.zeros((self.k,self.p+1))\n",
    "            for i in range(self.m):\n",
    "                total[self.labels[i],0] += 1 \n",
    "                total[self.labels[i],1:] += self.norm_x[i,:]\n",
    "\n",
    "            # Updating cluster center            \n",
    "            for j in range(self.k):\n",
    "                self.cluster_centers[j,:] = total[j,1:]/ (total[j,0])\n",
    "                \n",
    "            if (prevC == self.cluster_centers).all():\n",
    "                isConverged = True\n",
    "\n",
    "            self.n_iter+=1     \n",
    "            prevC = copy.deepcopy(self.cluster_centers)\n",
    "            \n",
    "        self.cluster_centers *= np.amax(self.x, axis=0)\n",
    "        self.silhouetteAvg = silhouette_score(self.x, self.labels)\n",
    "        self.silhouetteValues = silhouette_samples(self.x, self.labels)\n",
    "    \n",
    "    def Scikit_K_Means(self):\n",
    "        kmeans = KMeans(n_clusters=self.k,max_iter=self.max_iter).fit(self.x)\n",
    "        self.cluster_centers = kmeans.cluster_centers_\n",
    "        self.n_iter = kmeans.n_iter_\n",
    "        self.labels = kmeans.labels_\n",
    "        self.silhouetteAvg = silhouette_score(self.x, self.labels)\n",
    "        self.silhouetteValues = silhouette_samples(self.x, self.labels)\n",
    "        \n",
    "    def __fancy_dendrogram(self, *args, **kwargs):\n",
    "        max_d = kwargs.pop('max_d', None)\n",
    "        if max_d and 'color_threshold' not in kwargs:\n",
    "            kwargs['color_threshold'] = max_d\n",
    "        annotate_above = kwargs.pop('annotate_above', 0)\n",
    "\n",
    "        ddata = dendrogram(*args, **kwargs)\n",
    "\n",
    "        if not kwargs.get('no_plot', False):\n",
    "            plt.title('Hierarchical Clustering Dendrogram (truncated)')\n",
    "            plt.xlabel('sample index or (cluster size)')\n",
    "            plt.ylabel('distance')\n",
    "            for i, d, c in zip(ddata['icoord'], ddata['dcoord'], ddata['color_list']):\n",
    "                x = 0.5 * sum(i[1:3])\n",
    "                y = d[1]\n",
    "                if y > annotate_above:\n",
    "                    plt.plot(x, y, 'o', c=c)\n",
    "                    plt.annotate(\"%0.3g\" % y, (x, y), xytext=(0, -5),\n",
    "                                 textcoords='offset points',\n",
    "                                 va='top', ha='center')\n",
    "            if max_d:\n",
    "                plt.axhline(y=max_d, c='k')\n",
    "        return ddata\n",
    "    \n",
    "    \n",
    "    def Scipy_Agglomerative(self, dist_m, link_m, path):\n",
    "        Z = linkage(self.x,method=link_m,metric=dist_m)\n",
    "        label_ans = fcluster(Z, t=int(self.k), criterion='maxclust')\n",
    "        fig, axes= plt.subplots(nrows=1, ncols=1,figsize=(30,15))\n",
    "        \n",
    "        dn = self.__fancy_dendrogram(Z, \n",
    "                        labels=label_ans, \n",
    "                        ax=axes, \n",
    "                        truncate_mode='lastp', \n",
    "                        p=int(self.k), \n",
    "                        orientation='top',\n",
    "                        get_leaves = True,\n",
    "                        annotate_above=10,\n",
    "                        show_leaf_counts = True,\n",
    "                        leaf_rotation = 90,\n",
    "                        leaf_font_size = 20\n",
    "                       )\n",
    "        \n",
    "        with open(path+\"dendogram_lastp_\"+str(self.k)+\".json\", 'w') as f:\n",
    "            json.dump(dn, f)\n",
    "        \n",
    "        plt.savefig(path+\"dendrogram_lastp_\"+str(self.k)+\".png\",format=\"png\")\n",
    "        \n",
    "        #dn = dendrogram(Z, labels=label_ans, ax=axes, truncate_mode='level', p=i, orientation='top')\n",
    "        #plt.savefig(path+\"dendrogram_level_\"+str(i)+\".png\",format=\"png\")\n",
    "        \n",
    "        plt.close()\n",
    "        \n",
    "        self.labels = label_ans\n",
    "        self.labels = [x - 1 for x in self.labels]\n",
    "        self.silhouetteAvg = silhouette_score(self.x, self.labels)\n",
    "        self.silhouetteValues = silhouette_samples(self.x, self.labels)\n",
    "        "
   ]
  },
  {
   "cell_type": "code",
   "execution_count": 11,
   "metadata": {},
   "outputs": [],
   "source": [
    "from ast import literal_eval\n",
    "class TestCases:\n",
    "    def __init__(self):\n",
    "        self.testMethods = {}\n",
    "        self.testMethods[\"agglo\"] = pd.read_csv('testcases\\\\agglo.csv')\n",
    "        self.testMethods[\"kmeans\"] = pd.read_csv('testcases\\\\kmeans.csv')\n",
    "        self.testMethods[\"fuzzykmeans\"] = pd.read_csv('testcases\\\\fuzzykmeans.csv')\n",
    "        for k,v in self.testMethods.items():\n",
    "            self.testMethods[k].ResolutionX = self.testMethods[k].ResolutionX.astype(int)\n",
    "            self.testMethods[k].ResolutionY = self.testMethods[k].ResolutionY.astype(int)\n",
    "            self.testMethods[k].Channel = self.testMethods[k].Channel.astype(int)\n",
    "            self.testMethods[k].ClusterSize = self.testMethods[k].ClusterSize.astype(int)\n",
    "            self.testMethods[k].MaxIter = self.testMethods[k].MaxIter.astype(int)\n",
    "            self.testMethods[k].RingSize = self.testMethods[k].RingSize.apply(literal_eval)\n",
    "            \n",
    "    def RunTestCase(self, k,_df, test, t_path):\n",
    "        start_1 = time.time()\n",
    "        tds = TestDataSelection(_df,\n",
    "                                test.Area, \n",
    "                                (test.ResolutionX,test.ResolutionY),\n",
    "                                test.Channel,\n",
    "                                test.RingSize\n",
    "                               )\n",
    "        \n",
    "        matrix, df = tds.StartSelection()\n",
    "        \n",
    "        cL = Clustering(matrix,\n",
    "                        test.ClusterSize,\n",
    "                        test.MaxIter\n",
    "                       )\n",
    "        \n",
    "        end_1 = time.time()\n",
    "        logging.debug(\"Time taken for Data Selection: \" + str((end_1-start_1)/60) + \" min\")\n",
    "        \n",
    "        start_2 = time.time()\n",
    "                \n",
    "        if k == \"kmeans\":\n",
    "            cL.Scikit_K_Means()\n",
    "        elif k == \"agglo\":\n",
    "            cL.Scipy_Agglomerative(test.DistanceMetric,\n",
    "                                   test.Linkage,\n",
    "                                   t_path\n",
    "                                  )\n",
    "        elif k == \"fuzzykmeans\":\n",
    "            cL.Fuzzy_K_Means(test.ImageWeight,\n",
    "                             test.PressureWeight,\n",
    "                             test.WindWeight\n",
    "                            )\n",
    "\n",
    "        end_2 = time.time()\n",
    "\n",
    "        logging.debug(\"Average silhouette score for \"+str(cL.k)+\" cluster : \"+str(cL.silhouetteAvg) )\n",
    "        logging.debug(\"Max Iteration: \"+str(cL.n_iter))\n",
    "        logging.debug(\"Time taken by Clustering Algorithm: \" + str((end_2-start_2)/60) + \" min\")\n",
    "        \n",
    "        # Creating K cluster folders\n",
    "        # Creating Images for according to cluster centers\n",
    "        for i in range(int(cL.k)):\n",
    "            if k==\"fuzzykmeans\" or k==\"kmeans\":\n",
    "                img = cL.cluster_centers[i,0 : ( test.Channel * test.ResolutionX * test.ResolutionY ) ]\n",
    "                if test.Channel == 1:\n",
    "                    img = img.reshape(test.ResolutionX,test.ResolutionY)\n",
    "                else:\n",
    "                    img = img.reshape(test.ResolutionX,test.ResolutionY,3)\n",
    "                img = img.astype(np.uint8)\n",
    "                cv2.imwrite(t_path+\"cluster_\"+str(i)+\".png\",img)\n",
    "            \n",
    "            os.mkdir(t_path+str(i))\n",
    "        \n",
    "        \n",
    "        #Create CSV with Image, ClusterLabel and Silhouette value\n",
    "        image = pd.DataFrame({ 'FileName':df.FileName, 'ClusterLabel':cL.labels, 'SilhouetteVal':cL.silhouetteValues, 'T_No':df.T_No}) \n",
    "        image.to_csv(t_path+\"testInfo.csv\",index = False)\n",
    "        \n",
    "        # Coping Images from MyCreatedData to The cluster where it belongs for this testCase\n",
    "        '''\n",
    "        j = 0\n",
    "        for i in cL.labels:\n",
    "            shutil.copy(df.iloc[j,0], t_path+str(i))\n",
    "            j+=1\n",
    "        '''\n",
    "        \n",
    "    def RunTests(self,_df,region,freq):\n",
    "        for k,test in self.testMethods.items():\n",
    "            path = \"..//..//AllFrequencies//\"+region+\"//\"+freq+\"//\"+k+\"//\"\n",
    "            if os.path.isdir(path) == False:\n",
    "                os.mkdir(path)\n",
    "            \n",
    "            if k == \"agglo\":\n",
    "                for case in range(len(test)):\n",
    "                    if case == 14:\n",
    "                        print(region,freq,k,case)\n",
    "                        start_1 = time.time()\n",
    "\n",
    "                        # Creating a Test Directory\n",
    "                        t_path = path +\"Test_\"+str(case)\n",
    "                        if os.path.isdir(t_path):\n",
    "                            continue\n",
    "                        os.mkdir(t_path)\n",
    "                        t_path+=\"//\"\n",
    "\n",
    "                        logging.debug(\"Path for this Test Case:- \"+t_path)\n",
    "\n",
    "                        self.RunTestCase(k,_df,test.iloc[case],t_path)\n",
    "\n",
    "                        end_1 = time.time()\n",
    "                        logging.debug(\"Total Time taken: \" + str((end_1-start_1)/60) + \" min\\n\")\n"
   ]
  },
  {
   "cell_type": "code",
   "execution_count": 13,
   "metadata": {
    "scrolled": false
   },
   "outputs": [
    {
     "name": "stdout",
     "output_type": "stream",
     "text": [
      "ATL 19H agglo 14\n",
      "ATL 19V agglo 14\n",
      "ATL 19 agglo 14\n",
      "ATL 22V agglo 14\n",
      "ATL 37V agglo 14\n",
      "ATL 37H agglo 14\n",
      "ATL 37 agglo 14\n",
      "ATL 91H agglo 14\n",
      "ATL 91V agglo 14\n",
      "ATL 91 agglo 14\n",
      "ATL 150H agglo 14\n",
      "ATL 183_1H agglo 14\n",
      "ATL 183_3H agglo 14\n",
      "ATL 183_7H agglo 14\n",
      "CPAC 19H agglo 14\n",
      "CPAC 19V agglo 14\n",
      "CPAC 19 agglo 14\n"
     ]
    },
    {
     "name": "stderr",
     "output_type": "stream",
     "text": [
      "D:\\Study\\Anaconda3\\lib\\site-packages\\ipykernel_launcher.py:29: RuntimeWarning: invalid value encountered in true_divide\n"
     ]
    },
    {
     "name": "stdout",
     "output_type": "stream",
     "text": [
      "CPAC 22V agglo 14\n",
      "CPAC 37V agglo 14\n",
      "CPAC 37H agglo 14\n",
      "CPAC 37 agglo 14\n"
     ]
    },
    {
     "name": "stderr",
     "output_type": "stream",
     "text": [
      "D:\\Study\\Anaconda3\\lib\\site-packages\\ipykernel_launcher.py:29: RuntimeWarning: invalid value encountered in true_divide\n"
     ]
    },
    {
     "name": "stdout",
     "output_type": "stream",
     "text": [
      "CPAC 91H agglo 14\n",
      "CPAC 91V agglo 14\n",
      "CPAC 91 agglo 14\n"
     ]
    },
    {
     "name": "stderr",
     "output_type": "stream",
     "text": [
      "D:\\Study\\Anaconda3\\lib\\site-packages\\ipykernel_launcher.py:29: RuntimeWarning: invalid value encountered in true_divide\n"
     ]
    },
    {
     "name": "stdout",
     "output_type": "stream",
     "text": [
      "CPAC 150H agglo 14\n",
      "CPAC 183_1H agglo 14\n",
      "CPAC 183_3H agglo 14\n",
      "CPAC 183_7H agglo 14\n",
      "EPAC 19H agglo 14\n",
      "EPAC 19V agglo 14\n",
      "EPAC 19 agglo 14\n"
     ]
    },
    {
     "name": "stderr",
     "output_type": "stream",
     "text": [
      "D:\\Study\\Anaconda3\\lib\\site-packages\\ipykernel_launcher.py:29: RuntimeWarning: invalid value encountered in true_divide\n"
     ]
    },
    {
     "name": "stdout",
     "output_type": "stream",
     "text": [
      "EPAC 22V agglo 14\n",
      "EPAC 37V agglo 14\n",
      "EPAC 37H agglo 14\n",
      "EPAC 37 agglo 14\n"
     ]
    },
    {
     "name": "stderr",
     "output_type": "stream",
     "text": [
      "D:\\Study\\Anaconda3\\lib\\site-packages\\ipykernel_launcher.py:29: RuntimeWarning: invalid value encountered in true_divide\n"
     ]
    },
    {
     "name": "stdout",
     "output_type": "stream",
     "text": [
      "EPAC 91H agglo 14\n",
      "EPAC 91V agglo 14\n",
      "EPAC 91 agglo 14\n"
     ]
    },
    {
     "name": "stderr",
     "output_type": "stream",
     "text": [
      "D:\\Study\\Anaconda3\\lib\\site-packages\\ipykernel_launcher.py:29: RuntimeWarning: invalid value encountered in true_divide\n"
     ]
    },
    {
     "name": "stdout",
     "output_type": "stream",
     "text": [
      "EPAC 150H agglo 14\n",
      "EPAC 183_1H agglo 14\n",
      "EPAC 183_3H agglo 14\n",
      "EPAC 183_7H agglo 14\n",
      "IO 19H agglo 14\n",
      "IO 19V agglo 14\n",
      "IO 19 agglo 14\n"
     ]
    },
    {
     "name": "stderr",
     "output_type": "stream",
     "text": [
      "D:\\Study\\Anaconda3\\lib\\site-packages\\ipykernel_launcher.py:29: RuntimeWarning: invalid value encountered in true_divide\n"
     ]
    },
    {
     "name": "stdout",
     "output_type": "stream",
     "text": [
      "IO 22V agglo 14\n",
      "IO 37V agglo 14\n",
      "IO 37H agglo 14\n",
      "IO 37 agglo 14\n"
     ]
    },
    {
     "name": "stderr",
     "output_type": "stream",
     "text": [
      "D:\\Study\\Anaconda3\\lib\\site-packages\\ipykernel_launcher.py:29: RuntimeWarning: invalid value encountered in true_divide\n"
     ]
    },
    {
     "name": "stdout",
     "output_type": "stream",
     "text": [
      "IO 91H agglo 14\n",
      "IO 91V agglo 14\n",
      "IO 91 agglo 14\n"
     ]
    },
    {
     "name": "stderr",
     "output_type": "stream",
     "text": [
      "D:\\Study\\Anaconda3\\lib\\site-packages\\ipykernel_launcher.py:29: RuntimeWarning: invalid value encountered in true_divide\n"
     ]
    },
    {
     "name": "stdout",
     "output_type": "stream",
     "text": [
      "IO 150H agglo 14\n",
      "IO 183_1H agglo 14\n",
      "IO 183_3H agglo 14\n",
      "IO 183_7H agglo 14\n",
      "SHEM 19H agglo 14\n",
      "SHEM 19V agglo 14\n",
      "SHEM 19 agglo 14\n"
     ]
    },
    {
     "name": "stderr",
     "output_type": "stream",
     "text": [
      "D:\\Study\\Anaconda3\\lib\\site-packages\\ipykernel_launcher.py:29: RuntimeWarning: invalid value encountered in true_divide\n"
     ]
    },
    {
     "name": "stdout",
     "output_type": "stream",
     "text": [
      "SHEM 22V agglo 14\n",
      "SHEM 37V agglo 14\n",
      "SHEM 37H agglo 14\n",
      "SHEM 37 agglo 14\n"
     ]
    },
    {
     "name": "stderr",
     "output_type": "stream",
     "text": [
      "D:\\Study\\Anaconda3\\lib\\site-packages\\ipykernel_launcher.py:29: RuntimeWarning: invalid value encountered in true_divide\n"
     ]
    },
    {
     "name": "stdout",
     "output_type": "stream",
     "text": [
      "SHEM 91H agglo 14\n",
      "SHEM 91V agglo 14\n",
      "SHEM 91 agglo 14\n"
     ]
    },
    {
     "name": "stderr",
     "output_type": "stream",
     "text": [
      "D:\\Study\\Anaconda3\\lib\\site-packages\\ipykernel_launcher.py:29: RuntimeWarning: invalid value encountered in true_divide\n"
     ]
    },
    {
     "name": "stdout",
     "output_type": "stream",
     "text": [
      "SHEM 150H agglo 14\n",
      "SHEM 183_1H agglo 14\n",
      "SHEM 183_3H agglo 14\n",
      "SHEM 183_7H agglo 14\n",
      "WPAC 19H agglo 14\n",
      "WPAC 19V agglo 14\n",
      "WPAC 19 agglo 14\n",
      "WPAC 22V agglo 14\n",
      "WPAC 37V agglo 14\n",
      "WPAC 37H agglo 14\n",
      "WPAC 37 agglo 14\n",
      "WPAC 91H agglo 14\n",
      "WPAC 91V agglo 14\n",
      "WPAC 91 agglo 14\n",
      "WPAC 150H agglo 14\n",
      "WPAC 183_1H agglo 14\n",
      "WPAC 183_3H agglo 14\n",
      "WPAC 183_7H agglo 14\n"
     ]
    }
   ],
   "source": [
    "test = TestCases()\n",
    "for region,v1 in imgFreq.items():\n",
    "    for freq, _df in v1.items():\n",
    "        test.RunTests(_df,region,freq)"
   ]
  },
  {
   "cell_type": "code",
   "execution_count": null,
   "metadata": {},
   "outputs": [],
   "source": [
    "test.RunTests(imgFreq['ATL']['91V'], 'ATL', '91V' )"
   ]
  },
  {
   "cell_type": "code",
   "execution_count": 21,
   "metadata": {},
   "outputs": [
    {
     "ename": "KeyboardInterrupt",
     "evalue": "",
     "output_type": "error",
     "traceback": [
      "\u001b[1;31m---------------------------------------------------------------------------\u001b[0m",
      "\u001b[1;31mKeyboardInterrupt\u001b[0m                         Traceback (most recent call last)",
      "\u001b[1;32m<ipython-input-21-64309f2a6ba7>\u001b[0m in \u001b[0;36m<module>\u001b[1;34m\u001b[0m\n\u001b[0;32m      3\u001b[0m \u001b[0mdf\u001b[0m \u001b[1;33m=\u001b[0m \u001b[0mimgFreq\u001b[0m\u001b[1;33m[\u001b[0m\u001b[0mr\u001b[0m\u001b[1;33m]\u001b[0m\u001b[1;33m[\u001b[0m\u001b[0mf\u001b[0m\u001b[1;33m]\u001b[0m\u001b[1;33m\u001b[0m\u001b[1;33m\u001b[0m\u001b[0m\n\u001b[0;32m      4\u001b[0m \u001b[1;32mfor\u001b[0m \u001b[0mi\u001b[0m\u001b[1;33m,\u001b[0m\u001b[0mr\u001b[0m \u001b[1;32min\u001b[0m \u001b[0mdf\u001b[0m\u001b[1;33m.\u001b[0m\u001b[0miterrows\u001b[0m\u001b[1;33m(\u001b[0m\u001b[1;33m)\u001b[0m\u001b[1;33m:\u001b[0m\u001b[1;33m\u001b[0m\u001b[1;33m\u001b[0m\u001b[0m\n\u001b[1;32m----> 5\u001b[1;33m     \u001b[0mshutil\u001b[0m\u001b[1;33m.\u001b[0m\u001b[0mcopy\u001b[0m\u001b[1;33m(\u001b[0m\u001b[0mr\u001b[0m\u001b[1;33m.\u001b[0m\u001b[0mFileName\u001b[0m\u001b[1;33m,\u001b[0m \u001b[1;34m\"ATL_37//\"\u001b[0m\u001b[1;33m)\u001b[0m\u001b[1;33m\u001b[0m\u001b[1;33m\u001b[0m\u001b[0m\n\u001b[0m",
      "\u001b[1;32mD:\\Study\\Anaconda3\\lib\\shutil.py\u001b[0m in \u001b[0;36mcopy\u001b[1;34m(src, dst, follow_symlinks)\u001b[0m\n\u001b[0;32m    243\u001b[0m     \u001b[1;32mif\u001b[0m \u001b[0mos\u001b[0m\u001b[1;33m.\u001b[0m\u001b[0mpath\u001b[0m\u001b[1;33m.\u001b[0m\u001b[0misdir\u001b[0m\u001b[1;33m(\u001b[0m\u001b[0mdst\u001b[0m\u001b[1;33m)\u001b[0m\u001b[1;33m:\u001b[0m\u001b[1;33m\u001b[0m\u001b[1;33m\u001b[0m\u001b[0m\n\u001b[0;32m    244\u001b[0m         \u001b[0mdst\u001b[0m \u001b[1;33m=\u001b[0m \u001b[0mos\u001b[0m\u001b[1;33m.\u001b[0m\u001b[0mpath\u001b[0m\u001b[1;33m.\u001b[0m\u001b[0mjoin\u001b[0m\u001b[1;33m(\u001b[0m\u001b[0mdst\u001b[0m\u001b[1;33m,\u001b[0m \u001b[0mos\u001b[0m\u001b[1;33m.\u001b[0m\u001b[0mpath\u001b[0m\u001b[1;33m.\u001b[0m\u001b[0mbasename\u001b[0m\u001b[1;33m(\u001b[0m\u001b[0msrc\u001b[0m\u001b[1;33m)\u001b[0m\u001b[1;33m)\u001b[0m\u001b[1;33m\u001b[0m\u001b[1;33m\u001b[0m\u001b[0m\n\u001b[1;32m--> 245\u001b[1;33m     \u001b[0mcopyfile\u001b[0m\u001b[1;33m(\u001b[0m\u001b[0msrc\u001b[0m\u001b[1;33m,\u001b[0m \u001b[0mdst\u001b[0m\u001b[1;33m,\u001b[0m \u001b[0mfollow_symlinks\u001b[0m\u001b[1;33m=\u001b[0m\u001b[0mfollow_symlinks\u001b[0m\u001b[1;33m)\u001b[0m\u001b[1;33m\u001b[0m\u001b[1;33m\u001b[0m\u001b[0m\n\u001b[0m\u001b[0;32m    246\u001b[0m     \u001b[0mcopymode\u001b[0m\u001b[1;33m(\u001b[0m\u001b[0msrc\u001b[0m\u001b[1;33m,\u001b[0m \u001b[0mdst\u001b[0m\u001b[1;33m,\u001b[0m \u001b[0mfollow_symlinks\u001b[0m\u001b[1;33m=\u001b[0m\u001b[0mfollow_symlinks\u001b[0m\u001b[1;33m)\u001b[0m\u001b[1;33m\u001b[0m\u001b[1;33m\u001b[0m\u001b[0m\n\u001b[0;32m    247\u001b[0m     \u001b[1;32mreturn\u001b[0m \u001b[0mdst\u001b[0m\u001b[1;33m\u001b[0m\u001b[1;33m\u001b[0m\u001b[0m\n",
      "\u001b[1;32mD:\\Study\\Anaconda3\\lib\\shutil.py\u001b[0m in \u001b[0;36mcopyfile\u001b[1;34m(src, dst, follow_symlinks)\u001b[0m\n\u001b[0;32m    118\u001b[0m         \u001b[0mos\u001b[0m\u001b[1;33m.\u001b[0m\u001b[0msymlink\u001b[0m\u001b[1;33m(\u001b[0m\u001b[0mos\u001b[0m\u001b[1;33m.\u001b[0m\u001b[0mreadlink\u001b[0m\u001b[1;33m(\u001b[0m\u001b[0msrc\u001b[0m\u001b[1;33m)\u001b[0m\u001b[1;33m,\u001b[0m \u001b[0mdst\u001b[0m\u001b[1;33m)\u001b[0m\u001b[1;33m\u001b[0m\u001b[1;33m\u001b[0m\u001b[0m\n\u001b[0;32m    119\u001b[0m     \u001b[1;32melse\u001b[0m\u001b[1;33m:\u001b[0m\u001b[1;33m\u001b[0m\u001b[1;33m\u001b[0m\u001b[0m\n\u001b[1;32m--> 120\u001b[1;33m         \u001b[1;32mwith\u001b[0m \u001b[0mopen\u001b[0m\u001b[1;33m(\u001b[0m\u001b[0msrc\u001b[0m\u001b[1;33m,\u001b[0m \u001b[1;34m'rb'\u001b[0m\u001b[1;33m)\u001b[0m \u001b[1;32mas\u001b[0m \u001b[0mfsrc\u001b[0m\u001b[1;33m:\u001b[0m\u001b[1;33m\u001b[0m\u001b[1;33m\u001b[0m\u001b[0m\n\u001b[0m\u001b[0;32m    121\u001b[0m             \u001b[1;32mwith\u001b[0m \u001b[0mopen\u001b[0m\u001b[1;33m(\u001b[0m\u001b[0mdst\u001b[0m\u001b[1;33m,\u001b[0m \u001b[1;34m'wb'\u001b[0m\u001b[1;33m)\u001b[0m \u001b[1;32mas\u001b[0m \u001b[0mfdst\u001b[0m\u001b[1;33m:\u001b[0m\u001b[1;33m\u001b[0m\u001b[1;33m\u001b[0m\u001b[0m\n\u001b[0;32m    122\u001b[0m                 \u001b[0mcopyfileobj\u001b[0m\u001b[1;33m(\u001b[0m\u001b[0mfsrc\u001b[0m\u001b[1;33m,\u001b[0m \u001b[0mfdst\u001b[0m\u001b[1;33m)\u001b[0m\u001b[1;33m\u001b[0m\u001b[1;33m\u001b[0m\u001b[0m\n",
      "\u001b[1;31mKeyboardInterrupt\u001b[0m: "
     ]
    }
   ],
   "source": [
    "r = 'ATL'\n",
    "f = '37'\n",
    "df = imgFreq[r][f]\n",
    "for i,r in df.iterrows():\n",
    "    shutil.copy(r.FileName, \"ATL_37//\")"
   ]
  },
  {
   "cell_type": "code",
   "execution_count": null,
   "metadata": {},
   "outputs": [],
   "source": []
  },
  {
   "cell_type": "code",
   "execution_count": null,
   "metadata": {},
   "outputs": [],
   "source": [
    "type ( app.iloc[9] )"
   ]
  },
  {
   "cell_type": "code",
   "execution_count": null,
   "metadata": {},
   "outputs": [],
   "source": [
    "app =  test.testMethods[\"agglo\"].RingSize.apply(literal_eval)"
   ]
  },
  {
   "cell_type": "code",
   "execution_count": null,
   "metadata": {},
   "outputs": [],
   "source": [
    "region = 'ATL'\n",
    "freq = '91V'\n",
    "k = 'agglo'\n",
    "case = 7\n",
    "\n",
    "path = \"..//..//AllFrequencies//\"+region+\"//\"+freq+\"//\"+k+\"//\"\n",
    "t_path = path +\"Test_\"+str(case)\n",
    "if os.path.isdir(t_path):\n",
    "    continue\n",
    "os.mkdir(t_path)\n",
    "t_path+=\"//\"\n",
    "_df\n",
    "\n",
    "self.RunTestCase(k,_df,test.iloc[case],t_path)"
   ]
  },
  {
   "cell_type": "code",
   "execution_count": null,
   "metadata": {},
   "outputs": [],
   "source": []
  },
  {
   "cell_type": "code",
   "execution_count": null,
   "metadata": {},
   "outputs": [],
   "source": [
    "stats.tstd(b)"
   ]
  },
  {
   "cell_type": "code",
   "execution_count": null,
   "metadata": {},
   "outputs": [],
   "source": []
  },
  {
   "cell_type": "code",
   "execution_count": null,
   "metadata": {},
   "outputs": [],
   "source": []
  },
  {
   "cell_type": "code",
   "execution_count": null,
   "metadata": {},
   "outputs": [],
   "source": [
    "v.std()"
   ]
  },
  {
   "cell_type": "code",
   "execution_count": null,
   "metadata": {},
   "outputs": [],
   "source": []
  }
 ],
 "metadata": {
  "kernelspec": {
   "display_name": "Python 3",
   "language": "python",
   "name": "python3"
  },
  "language_info": {
   "codemirror_mode": {
    "name": "ipython",
    "version": 3
   },
   "file_extension": ".py",
   "mimetype": "text/x-python",
   "name": "python",
   "nbconvert_exporter": "python",
   "pygments_lexer": "ipython3",
   "version": "3.7.3"
  }
 },
 "nbformat": 4,
 "nbformat_minor": 2
}
