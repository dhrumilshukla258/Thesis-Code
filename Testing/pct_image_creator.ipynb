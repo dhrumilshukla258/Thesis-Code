{
 "cells": [
  {
   "cell_type": "code",
   "execution_count": 1,
   "metadata": {},
   "outputs": [],
   "source": [
    "import re\n",
    "import json\n",
    "import copy\n",
    "import time\n",
    "import os.path\n",
    "import logging\n",
    "import pandas as pd"
   ]
  },
  {
   "cell_type": "code",
   "execution_count": 2,
   "metadata": {},
   "outputs": [],
   "source": [
    "imgFreq = {}\n",
    "fList = ['19H','19V','22V','37V','37H','91H','91V','150H','183_1H','183_3H','183_7H']\n",
    "rList = ['ATL','CPAC','EPAC','IO','SHEM','WPAC']\n",
    "for r in rList:\n",
    "    imgFreq[r] = {}\n",
    "    for f in fList:\n",
    "        imgFreq[r][f] = pd.read_csv(\"..//ImagesPerFreq//\"+r+\"_\"+f+'.csv')"
   ]
  },
  {
   "cell_type": "raw",
   "metadata": {},
   "source": [
    "Creating a DataFrame consisting of common images from H/V frequencies of 19,37 and 91."
   ]
  },
  {
   "cell_type": "code",
   "execution_count": 3,
   "metadata": {},
   "outputs": [
    {
     "name": "stdout",
     "output_type": "stream",
     "text": [
      "ATL ['19H', '19V', '19'] 5372 5376 5359 0.6143760681152344\n",
      "ATL ['37H', '37V', '37'] 5813 4586 4584 0.5565240383148193\n",
      "ATL ['91H', '91V', '91'] 5388 5410 5385 0.5345706939697266\n",
      "CPAC ['19H', '19V', '19'] 616 614 612 0.05285835266113281\n",
      "CPAC ['37H', '37V', '37'] 635 608 607 0.05385899543762207\n",
      "CPAC ['91H', '91V', '91'] 643 633 632 0.05485033988952637\n",
      "EPAC ['19H', '19V', '19'] 6780 6771 6751 0.7071089744567871\n",
      "EPAC ['37H', '37V', '37'] 7104 5962 5961 0.7359895706176758\n",
      "EPAC ['91H', '91V', '91'] 6853 6876 6845 0.7041177749633789\n",
      "IO ['19H', '19V', '19'] 891 884 883 0.07379937171936035\n",
      "IO ['37H', '37V', '37'] 1026 741 741 0.08577132225036621\n",
      "IO ['91H', '91V', '91'] 889 889 883 0.07779765129089355\n",
      "SHEM ['19H', '19V', '19'] 5680 5655 5643 0.5535194873809814\n",
      "SHEM ['37H', '37V', '37'] 6066 5104 5104 0.5904207229614258\n",
      "SHEM ['91H', '91V', '91'] 5729 5751 5719 0.5784528255462646\n",
      "WPAC ['19H', '19V', '19'] 7605 7604 7594 0.8437438011169434\n",
      "WPAC ['37H', '37V', '37'] 8324 6622 6622 0.9603855609893799\n",
      "WPAC ['91H', '91V', '91'] 7638 7666 7628 0.837742805480957\n",
      "8.633936405181885\n"
     ]
    }
   ],
   "source": [
    "pctlist = [['19H','19V','19'], \n",
    "           ['37H','37V','37'],\n",
    "           ['91H','91V','91']]\n",
    "s1 = time.time()\n",
    "\n",
    "pctDf = {}\n",
    "for reg in rList:\n",
    "    pctDf[reg] = {}\n",
    "    for freq in pctlist:\n",
    "        \n",
    "        df1 = imgFreq[reg][freq[0]]\n",
    "        df2 = imgFreq[reg][freq[1]]\n",
    "        \n",
    "        fName1 = list(df1.FileName)\n",
    "        fName2 = list(df2.FileName)\n",
    "        fName = []\n",
    "\n",
    "        s2 = time.time()\n",
    "        ind = 0\n",
    "        for f1 in fName1:\n",
    "            \n",
    "            m = [m.start() for m in re.finditer(r'//', f1)] \n",
    "            fName.append( ( f1,\n",
    "                            f1[ :m[7] ] + \"//\" + freq[1] + f1[ m[8]: ],\n",
    "                            f1[ :m[7] ] + \"//\" + freq[2] + f1[ m[8]: ],\n",
    "                            df1.CenLon.iloc[ind],\n",
    "                            df1.CenLat.iloc[ind],\n",
    "                            df1.Pressure.iloc[ind],\n",
    "                            df1.Wind.iloc[ind],\n",
    "                            df1.Area.iloc[ind],\n",
    "                            df1.T_No.iloc[ind] ) \n",
    "                        )\n",
    "            ind+=1\n",
    "            \n",
    "        newFreq = []\n",
    "        ind = 0\n",
    "        for f in fName:\n",
    "            if f[1] in fName2:\n",
    "                newFreq.append(f)\n",
    "                ind+=1\n",
    "                \n",
    "        pctDf[reg][freq[2]] = pd.DataFrame.from_records(newFreq, columns =['F1', 'F2', 'FileName','CenLon','CenLat','Pressure','Wind','Area','T_No'])\n",
    "\n",
    "        e2=time.time()\n",
    "        print(reg,freq,len(fName1),len(fName2),ind,e2-s2)\n",
    "\n",
    "e1 = time.time()\n",
    "print(e1-s1)"
   ]
  },
  {
   "cell_type": "raw",
   "metadata": {},
   "source": [
    "Storing the DataFrame created for 19,37 and 91 Frequencies"
   ]
  },
  {
   "cell_type": "code",
   "execution_count": 5,
   "metadata": {},
   "outputs": [],
   "source": [
    "for reg in rList:\n",
    "    for freqArr in pctlist:\n",
    "        df = pctDf[reg][freqArr[2]]\n",
    "        df.drop(columns=['F1', 'F2']).to_csv(\"..//\"+reg+\"_\"+freqArr[2]+\".csv\",index=False)"
   ]
  },
  {
   "cell_type": "raw",
   "metadata": {},
   "source": [
    "Creating Directory of 19, 37 and 91 GHz for all year and regions"
   ]
  },
  {
   "cell_type": "code",
   "execution_count": 4,
   "metadata": {},
   "outputs": [
    {
     "name": "stdout",
     "output_type": "stream",
     "text": [
      "8419 0\n"
     ]
    }
   ],
   "source": [
    "failed = 0\n",
    "success = 0\n",
    "\n",
    "doesExist = {}\n",
    "\n",
    "swathFreq = {}\n",
    "swathFreq['S1'] = \"19\"\n",
    "swathFreq['S2'] = \"37\"\n",
    "swathFreq['S4'] = \"91\"\n",
    "\n",
    "pcteqn = [ ['19', 2.400, 1.400],\n",
    "           ['37', 2.150, 1.150],\n",
    "           ['91', 1.751, 0.751] ]\n",
    "\n",
    "for reg in rList:\n",
    "    for freq in pcteqn:\n",
    "        df = pctDf[reg][freq[0]]\n",
    "        for f in df.F1:\n",
    "            m = f.split(\"//\")\n",
    "            year = m[3]\n",
    "            stormNo = m[5]\n",
    "            f_ = m[6]\n",
    "            swath = m[7]\n",
    "            \n",
    "            f_path = year+\"//\"+reg+\"//\"+stormNo+\"//\"+f_+\"//\"+swath+\"//\"+swathFreq[swath]\n",
    "            \n",
    "            if doesExist.get(f_path) == None:\n",
    "                doesExist[f_path] = 1\n",
    "                #print(f_path)\n",
    "                f_path = \"..//..//MyCreatedData//\"+f_path\n",
    "                try:\n",
    "                    os.mkdir(f_path)\n",
    "                except OSError:\n",
    "                    failed+=1\n",
    "                else:\n",
    "                    success+=1\n",
    "                    \n",
    "                \n",
    "print(failed,success)"
   ]
  },
  {
   "cell_type": "raw",
   "metadata": {},
   "source": [
    "Creating PCT Images with the help of pctDf we created"
   ]
  },
  {
   "cell_type": "code",
   "execution_count": 5,
   "metadata": {},
   "outputs": [],
   "source": [
    "file_per_year = json.load(open('..//files_per_year.json'))"
   ]
  },
  {
   "cell_type": "code",
   "execution_count": 6,
   "metadata": {},
   "outputs": [],
   "source": [
    "import math\n",
    "import scipy.io\n",
    "import matplotlib.pyplot as plt\n",
    "from mpl_toolkits.basemap import Basemap, cm\n",
    "\n",
    "logging.basicConfig(filename='..//LogFile//logFile_pct_image',level=logging.DEBUG)\n",
    "mpl_logger = logging.getLogger(\"matplotlib\")\n",
    "mpl_logger.setLevel(logging.WARNING)"
   ]
  },
  {
   "cell_type": "code",
   "execution_count": 7,
   "metadata": {},
   "outputs": [],
   "source": [
    "def WorldMap(lon,lat,loncorners,latcorners):\n",
    "    # Plot the figure, define the geographic bounds\n",
    "    fig = plt.figure(figsize=(6.67,5.0),dpi=72)\n",
    "\n",
    "    m = Basemap(projection='cyl',\n",
    "                lon_0 = lon,\n",
    "                lat_0 = lat,\n",
    "                llcrnrlat=latcorners[0],\n",
    "                urcrnrlat=latcorners[1],\n",
    "                llcrnrlon=loncorners[0],\n",
    "                urcrnrlon=loncorners[1])\n",
    "\n",
    "    m.drawcoastlines()\n",
    "    m.drawmapboundary()\n",
    "    \n",
    "    return fig, m\n",
    "\n",
    "def GetLocation(lon1,lat1, brng, distanceKm):\n",
    "    try:\n",
    "        lat1 = lat1 * math.pi/ 180.0\n",
    "        lon1 = lon1 * math.pi / 180.0\n",
    "        #earth radius\n",
    "        R = 6378.1\n",
    "        #R = ~ 3959 MilesR = 3959\n",
    "\n",
    "        distanceKm = distanceKm/R\n",
    "\n",
    "        brng = (brng / 90)* math.pi / 2\n",
    "\n",
    "        lat2 = math.asin(math.sin(lat1) * math.cos(distanceKm) \n",
    "        + math.cos(lat1) * math.sin(distanceKm) * math.cos(brng))\n",
    "\n",
    "        lon2 = lon1 + math.atan2(math.sin(brng)*math.sin(distanceKm)\n",
    "        * math.cos(lat1),math.cos(distanceKm)-math.sin(lat1)*math.sin(lat2))\n",
    "\n",
    "        lon2 = 180.0 * lon2/ math.pi\n",
    "        lat2 = 180.0 * lat2/ math.pi\n",
    "        return lon2,lat2\n",
    "    except AssertionError as error:\n",
    "        logging.debug(error)"
   ]
  },
  {
   "cell_type": "code",
   "execution_count": 8,
   "metadata": {},
   "outputs": [],
   "source": [
    "swathFreq = {}\n",
    "swathFreq['19'] = 0\n",
    "swathFreq['37'] = 1\n",
    "swathFreq['91'] = 3\n",
    "\n",
    "def PCT_Function(v,h,val):\n",
    "    return val[0]*v - val[1]*h\n",
    "\n",
    "def ReadMatFile(fpath,freq):\n",
    "    try:\n",
    "        mat = scipy.io.loadmat(fpath)\n",
    "    except:\n",
    "        logging.debug(\"Error Reading File: \" + str( fpath ) )\n",
    "        return\n",
    "\n",
    "    swaths = mat[\"passData\"][0][0]\n",
    "    currSwath = swaths[ swathFreq[freq[0]] ]\n",
    "    lat = currSwath[0][0][1]\n",
    "    lon = currSwath[0][0][2]\n",
    "    channel = currSwath[0][0][3]\n",
    "    \n",
    "    #Here we consider channel[0] and channe[1] cause\n",
    "    #19V, 37V and 91V all exists on channel[0] and\n",
    "    #19H, 37H and 91H all exists on channel[1]\n",
    "    diff = PCT_Function(channel[0],channel[1],(freq[1],freq[2]))\n",
    "    \n",
    "    return lon,lat,diff\n",
    "    \n",
    "def GetLatLonCorners(centerLon,centerLat):\n",
    "    #Finding corners of map by Great Circle Distance\n",
    "    a = math.inf\n",
    "    b = -math.inf\n",
    "    c = math.inf\n",
    "    d = -math.inf\n",
    "    for loop in range(0,360):\n",
    "        t1,t2 = GetLocation(centerLon, centerLat,loop, 400)\n",
    "        a = min(t1,a)\n",
    "        b = max(t1,b)\n",
    "        c = min(t2,c)\n",
    "        d = max(t2,d)\n",
    "    loncorners = ([a,b])\n",
    "    latcorners = ([c,d])    \n",
    "    return loncorners, latcorners"
   ]
  },
  {
   "cell_type": "code",
   "execution_count": null,
   "metadata": {},
   "outputs": [],
   "source": [
    "s1 = time.time()\n",
    "for reg in rList:\n",
    "    logging.debug(\"Images for \"+reg+\" region\")\n",
    "    logging.debug(\"=========================================================================\")\n",
    "    \n",
    "    s2 = time.time()\n",
    "    for freqArr in pcteqn:\n",
    "        logging.debug(\"Frequency \"+freqArr[0])\n",
    "        logging.debug(\"===========================================\")\n",
    "        df = pctDf[reg][freqArr[0]]\n",
    "        s3 = time.time()\n",
    "        \n",
    "        s4 = time.time()\n",
    "        preYear = -1\n",
    "        tot = 0\n",
    "        for i,r in df.iterrows():\n",
    "            #Reading V and H image in this loop\n",
    "            m = [m.start() for m in re.finditer(r'//', r.F1)]\n",
    "            year = r.F1[m[2]+2:m[3]]\n",
    "            \n",
    "            if i == 0:\n",
    "                preYear = year\n",
    "                \n",
    "            if preYear != year:\n",
    "                e4 = time.time()\n",
    "                logging.debug( \"\\t\"+str(tot)+\" images took \"+str(e4-s4)+\" seconds for \"+preYear+\" year\" )\n",
    "                tot=0\n",
    "                s4 = time.time()\n",
    "                preYear = year\n",
    "\n",
    "            stormNo = r.F1[m[4]+2:m[5]]\n",
    "            f_ = r.F1[m[5]+2:m[6]]\n",
    "            matFileName = r.F1[m[8]+2: len(r.F1)-4] + \".mat\"\n",
    "\n",
    "            #Reading File_Per_Year\n",
    "            matFilesLocation = file_per_year[year][reg][stormNo][f_][0]\n",
    "            matFiles = file_per_year[year][reg][stormNo][f_][1]\n",
    "\n",
    "            try:\n",
    "                ind = matFiles.index(matFileName)\n",
    "            except:\n",
    "                logging.debug(\"Error finding index of \"+matFileName+\" for \",year,stormNo,f_)\n",
    "            matFile = matFiles[ind]\n",
    "\n",
    "            #Reading .matFile\n",
    "            lon,lat,diff = ReadMatFile(\"..\\\\\"+matFilesLocation + matFile, freqArr)\n",
    "\n",
    "            #Getting Lon and Lat corners\n",
    "            loncorners,latcorners = GetLatLonCorners(r.CenLon, r.CenLat)\n",
    "\n",
    "            #Creating Image\n",
    "            fig, m = WorldMap(r.CenLon, r.CenLat, loncorners, latcorners)\n",
    "            a,b = m(lon,lat)\n",
    "            plt.pcolormesh(a,b,diff, cmap=\"jet_r\")\n",
    "\n",
    "            plt.tight_layout(pad=0)\n",
    "            plt.savefig(r.FileName,bbox_inches = 'tight', pad_inches = 0)\n",
    "\n",
    "            plt.close( fig )\n",
    "            tot+=1\n",
    "        \n",
    "        e4 = time.time()\n",
    "        logging.debug( \"\\t\"+str(tot)+\" images took \"+str(e4-s4)+\" seconds for \"+preYear+\" year\" )\n",
    "        \n",
    "        e3 = time.time()\n",
    "        logging.debug( \"Time taken for \"+reg+\" region and \"+freqArr[0]+\" freq: \"+str(e3-s3)+\" seconds\")\n",
    "        logging.debug(\"===========================================\")\n",
    "        \n",
    "    e2 = time.time()\n",
    "    logging.debug( \"Time taken for \"+reg+\" region: \"+str(e2-s2)+\" seconds\")\n",
    "    logging.debug(\"=========================================================================\")\n",
    "    \n",
    "e1 = time.time()\n",
    "logging.debug( \"Total Time taken: \"+str(e1-s1)+\" seconds\")"
   ]
  },
  {
   "cell_type": "code",
   "execution_count": null,
   "metadata": {},
   "outputs": [],
   "source": []
  },
  {
   "cell_type": "code",
   "execution_count": null,
   "metadata": {},
   "outputs": [],
   "source": []
  },
  {
   "cell_type": "code",
   "execution_count": null,
   "metadata": {},
   "outputs": [],
   "source": []
  },
  {
   "cell_type": "code",
   "execution_count": null,
   "metadata": {},
   "outputs": [],
   "source": []
  },
  {
   "cell_type": "code",
   "execution_count": null,
   "metadata": {},
   "outputs": [],
   "source": []
  },
  {
   "cell_type": "code",
   "execution_count": null,
   "metadata": {},
   "outputs": [],
   "source": []
  },
  {
   "cell_type": "code",
   "execution_count": null,
   "metadata": {},
   "outputs": [],
   "source": []
  },
  {
   "cell_type": "code",
   "execution_count": null,
   "metadata": {},
   "outputs": [],
   "source": []
  },
  {
   "cell_type": "code",
   "execution_count": null,
   "metadata": {},
   "outputs": [],
   "source": []
  },
  {
   "cell_type": "code",
   "execution_count": null,
   "metadata": {},
   "outputs": [],
   "source": []
  }
 ],
 "metadata": {
  "kernelspec": {
   "display_name": "Python 3",
   "language": "python",
   "name": "python3"
  },
  "language_info": {
   "codemirror_mode": {
    "name": "ipython",
    "version": 3
   },
   "file_extension": ".py",
   "mimetype": "text/x-python",
   "name": "python",
   "nbconvert_exporter": "python",
   "pygments_lexer": "ipython3",
   "version": "3.7.3"
  }
 },
 "nbformat": 4,
 "nbformat_minor": 2
}
