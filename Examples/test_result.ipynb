{
 "cells": [
  {
   "cell_type": "code",
   "execution_count": 1,
   "metadata": {},
   "outputs": [],
   "source": [
    "import os\n",
    "import re\n",
    "import cv2\n",
    "import copy\n",
    "import shutil\n",
    "import numpy as np\n",
    "import pandas as pd\n",
    "import matplotlib.pyplot as plt"
   ]
  },
  {
   "cell_type": "markdown",
   "metadata": {},
   "source": [
    "### Reading TestInfo for each TestResult\n",
    "TestInfo.csv store all the necessary information after the clustering<br/>\n",
    "is done on the specific Region and Frequencies."
   ]
  },
  {
   "cell_type": "code",
   "execution_count": 2,
   "metadata": {},
   "outputs": [],
   "source": [
    "imgFreq = {}\n",
    "#,'CPAC','EPAC','IO','SHEM','WPAC'\n",
    "#,\n",
    "freqList = ['19H','19V','19','22V','37V','37H','37','91H','91V','91','150H','183_1H','183_3H','183_7H']\n",
    "regList = ['ATL']\n",
    "funList = ['agglo',\"kmeans\",\"fuzzykmeans\"]\n",
    "for reg in regList:\n",
    "    imgFreq[reg] = {}\n",
    "    for freq in freqList:\n",
    "        imgFreq[reg][freq] = {}\n",
    "        for fun in funList:\n",
    "            path = \"..\\\\..\\\\AllFrequencies\\\\\"+reg+\"\\\\\"+freq+\"\\\\\"+fun+\"\\\\\"\n",
    "            imgFreq[reg][freq][fun] = {}\n",
    "            ls = os.listdir(path)\n",
    "            for test in ls:\n",
    "                imgFreq[reg][freq][fun][test] = pd.read_csv(path+test+\"\\\\testInfo.csv\")"
   ]
  },
  {
   "cell_type": "markdown",
   "metadata": {},
   "source": [
    "### Test Result Class\n",
    "Function to Paste Images into Each Cluster<br />\n",
    "Function to Remove those Pastes Images<br />\n",
    "Function to Create Composite Images ( Mean of all images in a unique cluster )<br />\n",
    "Function to Create Histograms of Cluster Label and Intensity Number<br />"
   ]
  },
  {
   "cell_type": "code",
   "execution_count": 33,
   "metadata": {},
   "outputs": [],
   "source": [
    "def MakeDir(path):\n",
    "    if os.path.isdir(path) == False:\n",
    "        os.mkdir(path)\n",
    "        return True\n",
    "    return False\n",
    "\n",
    "class TestResults():\n",
    "    def __init__(self,df,path,minSilhoutteVal = -1):\n",
    "        self.mDf = copy.deepcopy(df[df.SilhouetteVal > minSilhoutteVal])\n",
    "        self.mMinSilVal = minSilhoutteVal\n",
    "        self.mTestPath = path\n",
    "        self.mPath = path + \"SilValue_\"+ str(self.mMinSilVal) + \"\\\\\"\n",
    "    \n",
    "    # Coping Images from MyCreatedData to The cluster where it belongs for this testCase\n",
    "    def Paste_Images(self):\n",
    "        cluster_labels = self.mDf.ClusterLabel.unique()\n",
    "        for cL in cluster_labels:\n",
    "            MakeDir(self.mPath+str(cL))\n",
    "        \n",
    "        for i,r in self.mDf.iterrows():\n",
    "            cL_path = self.mPath+str(r.ClusterLabel)+\"\\\\\"\n",
    "            imgName = r.FileName.split(\"//\")[8]\n",
    "            \n",
    "            # Original Image File Path\n",
    "            actualFile = cL_path+imgName\n",
    "            \n",
    "            # Copied at the cluster label where it belongs\n",
    "            shutil.copy( r.FileName,cL_path )\n",
    "            \n",
    "            # Renaming the copied file : This helps us to visually understand which intensity belongs to a particular image\n",
    "            # Old name : imgName\n",
    "            # New name : imgIntensity_imgName\n",
    "            t_no= str(r.T_No).replace(\".\",\"-\")\n",
    "            renameFile = cL_path+t_no+\"_\"+imgName[:len(imgName)-4]+\"_\"+str(r.SilhouetteVal)+\".png\"\n",
    "            \n",
    "            try:\n",
    "                os.rename(actualFile,renameFile)\n",
    "            except WindowsError:\n",
    "                os.remove(renameFile)\n",
    "                os.rename(actualFile,renameFile)\n",
    "            \n",
    "    def Create_Histogram_Images(self):\n",
    "        cluster_labels = self.mDf.ClusterLabel.unique()\n",
    "        t_no_labels = self.mDf.T_No.unique()\n",
    "        \n",
    "        # Creating Cluster_Label Folder\n",
    "        cL_path = path+\"Cluster_Label_\"+ str(self.mMinSilVal)\n",
    "        if not MakeDir(cL_path):\n",
    "            return\n",
    "        cL_path+=\"\\\\\"\n",
    "\n",
    "        # Creating T_No Folder \n",
    "        tno_path = path+\"T_No_Label_\" +str(self.mMinSilVal)\n",
    "        if not MakeDir(tno_path):\n",
    "            return\n",
    "        tno_path+=\"\\\\\"\n",
    "        \n",
    "        # Each graph depicts how each cluster is distributed amoung a particular intensity\n",
    "        for t_no in t_no_labels:\n",
    "            x = copy.deepcopy( self.mDf[ self.mDf.T_No == t_no ] )  \n",
    "            plt.xlim(min(cluster_labels),max(cluster_labels))\n",
    "            plt.xlabel(\"Cluster_Label - per each T_No\")\n",
    "            plt.ylabel(\"No_of_Images\")\n",
    "            plt.hist(x.ClusterLabel)\n",
    "            plt.savefig(tno_path+str(t_no)+\"_\"+str(len(x))+\".png\")\n",
    "            plt.close()\n",
    "\n",
    "        # Each graph depicts how the intensity is distributed among a particular cluster\n",
    "        for cL in cluster_labels:\n",
    "            x = copy.deepcopy( self.mDf[ self.mDf.ClusterLabel == cL ] )\n",
    "            plt.xlim(0,9)\n",
    "            plt.xlabel(\"T_No - per each cluster\") # Text for X-Axis\n",
    "            plt.ylabel(\"No_of_Images\")\n",
    "            plt.hist(x.T_No)\n",
    "            plt.savefig(cL_path+str(cL)+\"_\"+str(len(x))+\".png\")\n",
    "            plt.close()\n",
    "    \n",
    "    \n",
    "    def Composite_Images(self,w=360):\n",
    "        folderName = \"Composite_Images_\" + str(self.mMinSilVal)\n",
    "        if not MakeDir(self.mPath+folderName):\n",
    "            return \n",
    "        \n",
    "        cluster_labels = self.mDf.ClusterLabel.unique()\n",
    "        for cL in cluster_labels:\n",
    "            \n",
    "            cluster_df = copy.deepcopy( self.mDf[ self.mDf.ClusterLabel == cL ] )\n",
    "            \n",
    "            comp_img = np.zeros((w,w,3))\n",
    "            for i,r in cluster_df.iterrows():\n",
    "                \n",
    "                # Read ImageFiles and Not Considering Alpha Value just BGR is considered\n",
    "                img_cv = 0\n",
    "                try:\n",
    "                    img_cv = cv2.imread(r.FileName) \n",
    "                except:\n",
    "                    print(\"Error in reading Image: \",r.FileName)\n",
    "                \n",
    "                try:\n",
    "                    img_cv = cv2.resize(img_cv, (w,w) )\n",
    "                except:\n",
    "                    print(\"Resize Image Error: \",r.FileName)\n",
    "                \n",
    "                comp_img += img_cv\n",
    "            comp_img /= len(cluster_df)\n",
    "\n",
    "            cv2.imwrite(self.mPath+folderName+\"\\\\\"+str(cL)+\"_\"+str(len(cluster_df))+\".png\",comp_img.astype(np.uint8))\n",
    "    \n",
    "    def Silhouette_Graph(self,test):\n",
    "        cluster_labels = self.mDf.ClusterLabel.unique()\n",
    "        plt.xlabel(\"Silhouette Value\") # Text for X-Axis\n",
    "        plt.ylabel(\"No of Images\")\n",
    "        plt.hist(self.mDf.SilhouetteVal)\n",
    "        plt.savefig(test+\".png\")\n",
    "        plt.close()\n",
    "        \n",
    "        \n",
    "        '''\n",
    "        # Each graph depicts how the silhouette is distributed among a particular cluster\n",
    "        for cL in cluster_labels:\n",
    "            x = copy.deepcopy( self.mDf[ self.mDf.ClusterLabel == cL ] )\n",
    "            plt.xlabel(\"Silhouette Value\") # Text for X-Axis\n",
    "            plt.ylabel(\"No of Images\")\n",
    "            plt.hist(x.SilhouetteVal)\n",
    "            plt.savefig(str(cL)+\".png\")\n",
    "            plt.close()\n",
    "        '''\n",
    "        \n",
    "    def Move_Cluster_Folder(self):\n",
    "        cluster_labels = self.mDf.ClusterLabel.unique()\n",
    "        newFolder = self.mPath + \"SilValue_\" + str(self.mMinSilVal)\n",
    "        for root, dirs, files in os.walk(self.mPath):\n",
    "            if \"Cluster_Label_\"+str(self.mMinSilVal) in root or \"Composite_Images_\"+str(self.mMinSilVal) in root or \"T_No_Label_\"+ str(self.mMinSilVal) in root:\n",
    "                try:\n",
    "                    shutil.move(root, newFolder)        \n",
    "                except:\n",
    "                    print(\"Already Exists: \"+root)\n",
    "                    \n",
    "    def Remove_Pasted_Images(self):\n",
    "        for root, dirs, files in os.walk(self.mPath):\n",
    "            if \"Cluster_Label\" in root or \"Composite_Images\" in root or \"T_No_Label\" in root:\n",
    "                shutil.rmtree(os.path.join(root))   \n",
    "                \n",
    "            for name in files:\n",
    "                if \"SSMIS\" in name and \".png\" in name:\n",
    "                    #print(os.path.join(root, name))\n",
    "                    os.remove(os.path.join(root, name))"
   ]
  },
  {
   "cell_type": "markdown",
   "metadata": {},
   "source": [
    "### Analyzing the Results"
   ]
  },
  {
   "cell_type": "code",
   "execution_count": 34,
   "metadata": {},
   "outputs": [],
   "source": [
    "reg = 'ATL'\n",
    "freq = '91'\n",
    "silValues = [-1.0,0.0,0.1]\n",
    "#fun = 'agglo'\n",
    "#test = 'Test_14'\n",
    "for fun in funList:\n",
    "    for test,df in imgFreq[reg][freq][fun].items():\n",
    "        \n",
    "        if test == \"Test_10\":\n",
    "            path = \"..\\\\..\\\\AllFrequencies\\\\\"+reg+\"\\\\\"+freq+\"\\\\\"+fun+\"\\\\\"+test+\"\\\\\"\n",
    "            for val in silValues:\n",
    "                tR = TestResults(df,path,val)\n",
    "                tR.Silhouette_Graph(fun+test)\n",
    "                break\n",
    "            #tR.Paste_Images()\n",
    "            #tR.Move_Cluster_Folder()\n",
    "            #tR.Composite_Images()\n",
    "            #tR.Create_Histogram_Images()\n",
    "            #tR.Remove_Pasted_Images()"
   ]
  },
  {
   "cell_type": "code",
   "execution_count": null,
   "metadata": {
    "scrolled": true
   },
   "outputs": [],
   "source": [
    "'''            \n",
    "for reg in regList:\n",
    "    for freq in freqList:\n",
    "        for fun in funList:\n",
    "            for test,df in imgFreq[reg][freq][fun].items():   \n",
    "                path = \"..\\\\..\\\\AllFrequencies\\\\\"+reg+\"\\\\\"+freq+\"\\\\\"+fun+\"\\\\\"+test+\"\\\\\"\n",
    "                tR = TestResults(df,path)\n",
    "                tR.Composite_Images()\n",
    "                tR.Create_Histogram_Images()\n",
    "                print(path)\n",
    "                #tR.Remove_Pasted_Images()\n",
    "'''\n",
    "\n",
    "'''\n",
    "1470 for 0.0\n",
    "937 for 0.0 in CL==1\n",
    "\n",
    "875 for 0.1\n",
    "793 for 0.1 in CL==1\n",
    "'''\n",
    "reg = 'ATL'\n",
    "freq = '91'\n",
    "fun = 'fuzzykmeans'\n",
    "test = 'Test_12'\n",
    "df = imgFreq[reg][freq][fun][test]\n",
    "path = \"..\\\\..\\\\AllFrequencies\\\\\"+reg+\"\\\\\"+freq+\"\\\\\"+fun+\"\\\\\"+test+\"\\\\\"\n",
    "tR = TestResults(df,path)\n",
    "tR.Remove_Pasted_Images()\n",
    "\n",
    "#apple = copy.deepcopy( df[df.SilhouetteVal > 0.1]  )\n",
    "#apple\n",
    "#tR = TestResults(df,path,)\n",
    "#tR.Composite_Images()\n",
    "#tR.Create_Histogram_Images()\n"
   ]
  },
  {
   "cell_type": "markdown",
   "metadata": {},
   "source": [
    "### Extra Code"
   ]
  },
  {
   "cell_type": "markdown",
   "metadata": {},
   "source": [
    "#cv2.imread(\"..//..//MyCreatedData//5//ATL//29//F16//19//20051123T113200_SSMIS_F16.png\")\n",
    "'''"
   ]
  },
  {
   "cell_type": "markdown",
   "metadata": {},
   "source": [
    "#RemovePastedImagesFrom(imgFreq,'ATL','19','agglo','Test_0')\n",
    "for reg in regList:\n",
    "    for freq in freqList:\n",
    "        for fun in funList:\n",
    "            for test,df in imgFreq[reg][freq][fun].items():\n",
    "                RemoveImages(reg,freq,fun,test)\n",
    "                break\n",
    "            break\n",
    "        break\n",
    "    break"
   ]
  },
  {
   "cell_type": "code",
   "execution_count": null,
   "metadata": {},
   "outputs": [],
   "source": [
    "for reg in regList:\n",
    "    for freq in freqList:\n",
    "        for fun in funList:\n",
    "            path = \"..//..//AllFrequencies//\"+reg+\"//\"+freq+\"//\"+fun+\"//Test_14//\"\n",
    "            PasteImages( imgFreq[reg][freq][fun][0], path )\n",
    "            \n",
    "'''reg = 'ATL'\n",
    "freq = '19H'\n",
    "fun = 'kmeans'\n",
    "'''"
   ]
  },
  {
   "cell_type": "code",
   "execution_count": null,
   "metadata": {},
   "outputs": [],
   "source": [
    "temp = imgFreq[\"ATL\"][\"91\"][\"agglo\"][0][ imgFreq[\"ATL\"][\"91\"][\"agglo\"][0].ClusterLabel == 2 ]\n",
    "temp[ temp.SilhouetteVal > 0.1 ]"
   ]
  },
  {
   "cell_type": "code",
   "execution_count": null,
   "metadata": {},
   "outputs": [],
   "source": [
    "imgFreq[reg][freq][fun][0]"
   ]
  },
  {
   "cell_type": "code",
   "execution_count": null,
   "metadata": {},
   "outputs": [],
   "source": [
    "#for reg in regList:\n",
    "    #for freq in freqList:\n",
    "\n",
    "reg = 'ATL'\n",
    "freq = '19'\n",
    "path = \"..//..//AllFrequencies//\"+reg+\"//\"+freq+\"//\"+\"agglo//Test_14//\"\n",
    "PasteImages( imgFreq[reg][freq][\"agglo\"][0], path )\n"
   ]
  },
  {
   "cell_type": "markdown",
   "metadata": {},
   "source": [
    "Creating a Zip file of all the specific folders"
   ]
  },
  {
   "cell_type": "code",
   "execution_count": null,
   "metadata": {},
   "outputs": [],
   "source": [
    "from zipfile import ZipFile\n",
    "reg = 'ATL'\n",
    "freq = '91'\n",
    "zipObj = ZipFile(reg+\"_\"+freq+\"_agglo_test_14.zip\", 'w')\n",
    "path = \"..//..//AllFrequencies//\"+reg+\"//\"+freq+\"//\"+\"agglo//Test_14//\"\n",
    "for folderName, subfolders, filenames in os.walk(path):\n",
    "    for filename in filenames:\n",
    "        #create complete filepath of file in directory\n",
    "        filePath = os.path.join(folderName, filename)\n",
    "        print(filePath)\n",
    "        zipObj.write(filePath)\n",
    "zipObj.close()"
   ]
  },
  {
   "cell_type": "code",
   "execution_count": null,
   "metadata": {},
   "outputs": [],
   "source": [
    "from zipfile import ZipFile\n",
    "\n",
    "for reg in regList:\n",
    "    zipObj = ZipFile(reg+'agglo_test_14.zip', 'w')\n",
    "    for freq in freqList:\n",
    "        path = \"..//..//AllFrequencies//\"+reg+\"//\"+freq+\"//\"+\"agglo//Test_14//\"\n",
    "        for folderName, subfolders, filenames in os.walk(path):\n",
    "            for filename in filenames:\n",
    "                #create complete filepath of file in directory\n",
    "                filePath = os.path.join(folderName, filename)\n",
    "                zipObj.write(filePath)\n",
    "    zipObj.close()"
   ]
  },
  {
   "cell_type": "markdown",
   "metadata": {},
   "source": [
    "Code Below aims at finding common images among multiple frequencies"
   ]
  },
  {
   "cell_type": "code",
   "execution_count": null,
   "metadata": {},
   "outputs": [],
   "source": [
    "def Test( df ):\n",
    "    df = copy.deepcopy(df[df.SilhouetteVal > 0])\n",
    "    imgCol = []\n",
    "    for i,r in df.iterrows():\n",
    "        imgCol.append( r.FileName.split(\"//\")[9]  )\n",
    "    df['ImgName'] = imgCol \n",
    "    return df\n",
    "\n",
    "def CompareTest( df1, df2 ):\n",
    "    df = df1.merge(df2, left_on='ImgName', right_on='ImgName')\n",
    "    \n",
    "    return pd.DataFrame({\"ImgName\":df.ImgName})"
   ]
  },
  {
   "cell_type": "code",
   "execution_count": null,
   "metadata": {},
   "outputs": [],
   "source": [
    "finalDf = {}\n",
    "for reg in regList:\n",
    "    finalDf[reg] = Test( imgFreq[reg][freqList[0]]['agglo'][0] )\n",
    "    for i in range(1,len(freqList)):\n",
    "        finalDf[reg] = CompareTest( finalDf[reg], Test(imgFreq[reg][freqList[i]]['agglo'][0]) )"
   ]
  },
  {
   "cell_type": "code",
   "execution_count": null,
   "metadata": {},
   "outputs": [],
   "source": [
    "finalDf['WPAC']"
   ]
  },
  {
   "cell_type": "code",
   "execution_count": null,
   "metadata": {},
   "outputs": [],
   "source": [
    "df1 = Test( imgFreq['ATL']['19H']['kmeans'][9] )\n",
    "df2 = Test( imgFreq['ATL']['91H']['kmeans'][9] )\n",
    "df3 = Test( imgFreq['ATL']['150H']['kmeans'][9] )\n",
    "df4 = Test( imgFreq['ATL']['183_1H']['kmeans'][9] )\n",
    "\n",
    "df_imgName = CompareTest(df1,df2)\n",
    "df_imgName = CompareTest(df_imgName, df3)\n",
    "df_imgName = CompareTest(df_imgName, df4)\n",
    "\n",
    "df1 = df1.merge( df_imgName, left_on='ImgName', right_on='ImgName' )\n",
    "df2 = df2.merge( df_imgName, left_on='ImgName', right_on='ImgName' )\n",
    "df3 = df3.merge( df_imgName, left_on='ImgName', right_on='ImgName' )\n",
    "df4 = df4.merge( df_imgName, left_on='ImgName', right_on='ImgName' )"
   ]
  },
  {
   "cell_type": "code",
   "execution_count": null,
   "metadata": {},
   "outputs": [],
   "source": []
  },
  {
   "cell_type": "code",
   "execution_count": null,
   "metadata": {},
   "outputs": [],
   "source": []
  },
  {
   "cell_type": "code",
   "execution_count": null,
   "metadata": {},
   "outputs": [],
   "source": []
  },
  {
   "cell_type": "code",
   "execution_count": null,
   "metadata": {},
   "outputs": [],
   "source": []
  },
  {
   "cell_type": "code",
   "execution_count": null,
   "metadata": {},
   "outputs": [],
   "source": []
  },
  {
   "cell_type": "code",
   "execution_count": null,
   "metadata": {},
   "outputs": [],
   "source": [
    "def LabelAndSill(df,silVal, maxLabel):\n",
    "    dr= df[ df.T_No == silVal ]\n",
    "    print(\"-------------------------\")\n",
    "    for i in range(maxLabel):\n",
    "        print(len( dr[ dr.ClusterLabel == i] ) )\n",
    "    ''' \n",
    "    j=0\n",
    "    while j <9.5:\n",
    "        dr=  df[ df.T_No == j ]\n",
    "        maxLab = -1\n",
    "        maxVal = -1\n",
    "        for i in range(maxLabel):\n",
    "            if len(dr[dr.ClusterLabel == i]) > maxVal:\n",
    "                maxVal = len(dr[dr.ClusterLabel == i])\n",
    "                maxLab = i\n",
    "\n",
    "        print(j,maxVal,maxLab )\n",
    "        #dr[dr.ClusterLabel == maxLab]\n",
    "        j+=0.5\n",
    "    '''"
   ]
  },
  {
   "cell_type": "code",
   "execution_count": null,
   "metadata": {},
   "outputs": [],
   "source": [
    "reg = 'ATL'\n",
    "freq = '183_1H'\n",
    "fun = 'kmeans'\n",
    "j = 9\n",
    "path = \"..//..//AllFrequencies//\"+reg+\"//\"+freq+\"//\"+fun+\"//Test_\"+str(j)+\"//\"\n",
    "for i,r in df4.iterrows():\n",
    "    tNo_path = path+str(r.ClusterLabel)+\"//\"+str(r.T_No)\n",
    "    if os.path.isdir(tNo_path) == False:\n",
    "        os.mkdir(tNo_path)\n",
    "    shutil.copy( r.FileName,tNo_path )\n",
    "    \n"
   ]
  },
  {
   "cell_type": "code",
   "execution_count": null,
   "metadata": {},
   "outputs": [],
   "source": [
    "from matplotlib import pyplot as plt\n",
    "import matplotlib.image as mpimage\n",
    "\n",
    "w=10\n",
    "h=10\n",
    "fig=plt.figure(figsize=(8, 8))\n",
    "columns = 3\n",
    "rows = 7\n",
    "for i in range(1, columns*rows +1):\n",
    "    img = np.random.randint(10, size=(h,w))\n",
    "    fig.add_subplot(rows, columns, i)\n",
    "    plt.imshow(img)\n",
    "plt.show()"
   ]
  },
  {
   "cell_type": "code",
   "execution_count": null,
   "metadata": {},
   "outputs": [],
   "source": [
    "reg = 'ATL'\n",
    "freq = '19H'\n",
    "fun = 'kmeans'\n",
    "test = 9\n",
    "df = imgFreq[reg][freq][fun][test]\n",
    "df = df[ df.SilhouetteVal>0.0 ]\n",
    "\n",
    "\n",
    "'''\n",
    "imgCol = []\n",
    "for i,r in df.iterrows():\n",
    "    imgCol.append( r.FileName.split(\"//\")[9]  )\n",
    "df['ImgName'] = imgCol\n",
    "'''\n",
    "\n"
   ]
  },
  {
   "cell_type": "code",
   "execution_count": null,
   "metadata": {},
   "outputs": [],
   "source": [
    "dr = df[ df.T_No == 1.0 ]\n",
    "dr[ dr.ClusterLabel == 0 ].FileName.iloc[3]"
   ]
  },
  {
   "cell_type": "code",
   "execution_count": null,
   "metadata": {},
   "outputs": [],
   "source": [
    "'''\n",
    "def Ans(df):\n",
    "    \n",
    "    uniqueId = sorted(list(df.ClusterLabel_x.unique()))\n",
    "    for label in uniqueId:\n",
    "        tno[label] = {}\n",
    "        df1 = df.T_No[df.ClusterLabel == label]\n",
    "        t1 = list(df1)\n",
    "        i=0\n",
    "        while i <9.5:\n",
    "            tno[label][i] = t1.count(i)\n",
    "            i+=0.5\n",
    "    \n",
    "    newDf = pd.DataFrame(tno)\n",
    "    print(newDf)\n",
    "\n",
    "\n",
    "df = df[ df.Sil]\n",
    "\n",
    "'''\n",
    "\n",
    "\n",
    "    \n",
    "    '''imgCol = []\n",
    "    for i,r in df3.iterrows():\n",
    "        imgCol.append( r.FileName.split(\"//\")[9]  )\n",
    "    df3['ImgName'] = imgCol   \n",
    "    \n",
    "    if (df.T_No_x == df.T_No_y).all():\n",
    "        if (df.T_No_x == df.T_No).all():\n",
    "            print(\"aplee\")\n",
    "    \n",
    "            \n",
    "    \n",
    "    \n",
    "    \n",
    "    return df\n",
    "    '''    \n",
    "    \n",
    "    \n",
    "\n",
    "    '''\n",
    "    label1 = {}\n",
    "    for i,r in t1.iterrows():\n",
    "        if label1.get(r.ClusterLabel) == None:\n",
    "            label1[r.ClusterLabel] = []\n",
    "        label1[r.ClusterLabel].append([r.FileName, r.SilhouetteVal, r.T_No])\n",
    "    \n",
    "    label2 = {}\n",
    "    for i,r in t2.iterrows():\n",
    "        if label2.get(r.ClusterLabel) == None:\n",
    "            label2[r.ClusterLabel] = []\n",
    "        label2[r.ClusterLabel].append([r.FileName, r.SilhouetteVal, r.T_No])\n",
    "    \n",
    "    for k1,v1 in label1.items():\n",
    "        for k2,v2 in label2.items():\n",
    "            \n",
    "            #v1 and v2 are the lists of rows for a particular label\n",
    "            count=0\n",
    "            for l1 in v1:\n",
    "                for l2 in v2:\n",
    "                    if l1[0] == l2[0]:\n",
    "                        count+=1\n",
    "            print(k1,k2,count)\n",
    "    '''"
   ]
  },
  {
   "cell_type": "code",
   "execution_count": null,
   "metadata": {},
   "outputs": [],
   "source": [
    "df1 = imgFreq['ATL']['150H']['agglo'][6]\n",
    "df1 = df1[df1.SilhouetteVal > 0]"
   ]
  },
  {
   "cell_type": "code",
   "execution_count": null,
   "metadata": {},
   "outputs": [],
   "source": [
    "newdf1 = df1.T_No[ df1.ClusterLabel == 4]\n",
    "t1 = list(newdf1)\n",
    "i=0\n",
    "while i <9.5:\n",
    "    print(i, t1.count(i))\n",
    "    i+=0.5\n",
    "print(t1)   "
   ]
  },
  {
   "cell_type": "code",
   "execution_count": null,
   "metadata": {},
   "outputs": [],
   "source": [
    "newdf1 = df2.T_No[ df2.ClusterLabel == 6 ]\n",
    "t1 = list(newdf1)\n",
    "i=0\n",
    "while i <9.0:\n",
    "    print(i, t1.count(i))\n",
    "    i+=0.5"
   ]
  },
  {
   "cell_type": "code",
   "execution_count": null,
   "metadata": {},
   "outputs": [],
   "source": [
    "for i in range(11):\n",
    "    print( len( df1[ (df1['ClusterLabel']==i) ] ) )\n",
    "\n",
    "for i in range(7):\n",
    "    print( len( df[ (df['ClusterLabel_x']==i) ] ) )\n",
    "    \n",
    "for i in range(7):\n",
    "    print( len( imgFreq['ATL']['91H']['fuzzykmeans'][4][ (imgFreq['ATL']['91H']['fuzzykmeans'][9]['ClusterLabel']==i) ] ) )"
   ]
  },
  {
   "cell_type": "code",
   "execution_count": null,
   "metadata": {},
   "outputs": [],
   "source": []
  },
  {
   "cell_type": "code",
   "execution_count": null,
   "metadata": {},
   "outputs": [],
   "source": []
  },
  {
   "cell_type": "code",
   "execution_count": null,
   "metadata": {},
   "outputs": [],
   "source": []
  },
  {
   "cell_type": "code",
   "execution_count": null,
   "metadata": {},
   "outputs": [],
   "source": []
  }
 ],
 "metadata": {
  "kernelspec": {
   "display_name": "thesis",
   "language": "python",
   "name": "thesis"
  },
  "language_info": {
   "codemirror_mode": {
    "name": "ipython",
    "version": 3
   },
   "file_extension": ".py",
   "mimetype": "text/x-python",
   "name": "python",
   "nbconvert_exporter": "python",
   "pygments_lexer": "ipython3",
   "version": "3.7.0"
  }
 },
 "nbformat": 4,
 "nbformat_minor": 2
}
