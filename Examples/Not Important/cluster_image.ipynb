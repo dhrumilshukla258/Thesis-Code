{
 "cells": [
  {
   "cell_type": "code",
   "execution_count": 1,
   "metadata": {},
   "outputs": [],
   "source": [
    "import cv2\n",
    "import dill\n",
    "import pandas as pd\n",
    "import numpy as np"
   ]
  },
  {
   "cell_type": "code",
   "execution_count": 2,
   "metadata": {},
   "outputs": [],
   "source": [
    "imgFreq = {}\n",
    "fList = ['19H','19V','22V','37V','37H','91H','91V','150H','183_1H','183_3H','183_7H']\n",
    "rList = ['ATL','CPAC','EPAC','IO','SHEM','WPAC']\n",
    "for r in rList:\n",
    "    imgFreq[r] = {}\n",
    "    for f in fList:\n",
    "        imgFreq[r][f] = pd.read_csv(\"..//ImagesPerFreq//\"+r+\"_\"+f+'.csv')\n",
    "        del imgFreq[r][f]['Unnamed: 0']"
   ]
  },
  {
   "cell_type": "markdown",
   "metadata": {},
   "source": [
    "For Testing purpose considering:-<br>\n",
    "ATL region | 19H freq | 90+ Area<br>\n",
    "ATL region | 183_1H freq | 90+ Area"
   ]
  },
  {
   "cell_type": "code",
   "execution_count": 3,
   "metadata": {},
   "outputs": [],
   "source": [
    "atl_19h = imgFreq['ATL']['19H'].loc[imgFreq['ATL']['19H']['Area'] >= 0.90]\n",
    "atl_183_1h = imgFreq['ATL']['183_1H'].loc[imgFreq['ATL']['183_1H']['Area'] >= 0.90]"
   ]
  },
  {
   "cell_type": "code",
   "execution_count": 6,
   "metadata": {},
   "outputs": [],
   "source": [
    "with open('atl_19h_matrix.pkl', 'rb') as file:\n",
    "    matOfImages = dill.load(file)\n",
    "\n",
    "with open('atl_19h_cluster.pkl', 'rb') as file:\n",
    "    kmeans = dill.load(file)"
   ]
  },
  {
   "cell_type": "markdown",
   "metadata": {},
   "source": [
    "#Read ImageFiles\n",
    "matOfImages = np.zeros( (0,129602) ).astype(np.uint8)\n",
    "for index, row in atl_183_1h.iterrows():\n",
    "    imgName = row[0]\n",
    "    img_cv = cv2.imread(imgName,cv2.IMREAD_UNCHANGED)  \n",
    "    img_cv = cv2.resize(img_cv, (360,360))\n",
    "    gray_cv = cv2.cvtColor(img_cv, cv2.COLOR_BGR2GRAY).flatten()\n",
    "    alldata = np.append(gray_cv, [row[3],row[4]], 0)\n",
    "    matOfImages = np.append( matOfImages, [alldata], axis = 0 )\n",
    "    \n",
    "    print(len(matOfImages))"
   ]
  },
  {
   "cell_type": "markdown",
   "metadata": {},
   "source": [
    "from sklearn.cluster import KMeans\n",
    "kmeans = KMeans(n_clusters=7, random_state=0).fit(matOfImages)"
   ]
  },
  {
   "cell_type": "code",
   "execution_count": 9,
   "metadata": {},
   "outputs": [
    {
     "data": {
      "text/plain": [
       "array([[255, 255, 255, ..., 255, 983,  50],\n",
       "       [255, 255, 255, ..., 255, 982,  55],\n",
       "       [255, 255, 191, ..., 255, 980,  60],\n",
       "       ...,\n",
       "       [255, 255, 255, ..., 255, 997,  55],\n",
       "       [255, 255, 255, ..., 255, 994,  55],\n",
       "       [255, 255, 255, ..., 255, 994,  55]])"
      ]
     },
     "execution_count": 9,
     "metadata": {},
     "output_type": "execute_result"
    }
   ],
   "source": [
    "matOfImages"
   ]
  },
  {
   "cell_type": "code",
   "execution_count": null,
   "metadata": {},
   "outputs": [],
   "source": [
    "kmeans"
   ]
  },
  {
   "cell_type": "code",
   "execution_count": 7,
   "metadata": {},
   "outputs": [],
   "source": [
    "clusters = kmeans.predict(  )"
   ]
  },
  {
   "cell_type": "code",
   "execution_count": null,
   "metadata": {},
   "outputs": [],
   "source": [
    "import shutil\n",
    "for i in range(len(clusters)):\n",
    "    shutil.copy(atl_183_1h.iloc[i,0], '..\\\\..\\\\AllFrequencies\\\\ATL\\\\183_1H\\\\'+str(clusters[i]) )"
   ]
  },
  {
   "cell_type": "code",
   "execution_count": null,
   "metadata": {},
   "outputs": [],
   "source": [
    "import dill\n",
    "with open('atl_183_1h_matrix.pkl', 'wb') as file:\n",
    "    dill.dump(matOfImages, file)"
   ]
  },
  {
   "cell_type": "code",
   "execution_count": null,
   "metadata": {},
   "outputs": [],
   "source": [
    "with open('atl_183_1h_cluster.pkl', 'wb') as file:\n",
    "    dill.dump(kmeans, file)"
   ]
  },
  {
   "cell_type": "markdown",
   "metadata": {},
   "source": [
    "'''\n",
    "#asd = cv2.imread(\"apple.png\",cv2.IMREAD_UNCHANGED) \n",
    "cv2.imshow('image',asd)  \n",
    "cv2.waitKey(0)\n",
    "cv2.destroyAllWindows()\n",
    "\n",
    "w*h*dpi*dpi\n",
    "\n",
    "print ( kmeans.labels_ )\n",
    "print ( kmeans.predict([[0, 0], [12, 3]]) )\n",
    "print ( kmeans.cluster_centers_ )\n",
    "\n",
    "region = 'ATL'\n",
    "stormNo = 2\n",
    "stormData = data[region][stormNo]\n",
    "satellite = 'F17'\n",
    "swath = 'S3'\n",
    "freq = '150H'\n",
    "imageData = stormData[satellite][swath][freq]\n",
    "path = \"..//..//MyCreatedData//\"+ str(10) + \"//\" + region + \"//\" + str(stormNo) + \"//\" + satellite + \"//\" + swath + \"//\" + freq + \"//\"\n",
    "'''"
   ]
  },
  {
   "cell_type": "markdown",
   "metadata": {},
   "source": []
  }
 ],
 "metadata": {
  "kernelspec": {
   "display_name": "Python 3",
   "language": "python",
   "name": "python3"
  },
  "language_info": {
   "codemirror_mode": {
    "name": "ipython",
    "version": 3
   },
   "file_extension": ".py",
   "mimetype": "text/x-python",
   "name": "python",
   "nbconvert_exporter": "python",
   "pygments_lexer": "ipython3",
   "version": "3.7.3"
  }
 },
 "nbformat": 4,
 "nbformat_minor": 2
}
