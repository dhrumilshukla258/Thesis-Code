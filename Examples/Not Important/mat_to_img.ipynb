{
 "cells": [
  {
   "cell_type": "code",
   "execution_count": 1,
   "metadata": {},
   "outputs": [
    {
     "ename": "ModuleNotFoundError",
     "evalue": "No module named 'mpl_toolkits.basemap'",
     "output_type": "error",
     "traceback": [
      "\u001b[1;31m---------------------------------------------------------------------------\u001b[0m",
      "\u001b[1;31mModuleNotFoundError\u001b[0m                       Traceback (most recent call last)",
      "\u001b[1;32m<ipython-input-1-bec375782c65>\u001b[0m in \u001b[0;36m<module>\u001b[1;34m\u001b[0m\n\u001b[0;32m     10\u001b[0m \u001b[1;32mfrom\u001b[0m \u001b[0mscipy\u001b[0m \u001b[1;32mimport\u001b[0m \u001b[0minterpolate\u001b[0m\u001b[1;33m\u001b[0m\u001b[1;33m\u001b[0m\u001b[0m\n\u001b[0;32m     11\u001b[0m \u001b[1;32mfrom\u001b[0m \u001b[0mscipy\u001b[0m \u001b[1;32mimport\u001b[0m \u001b[0mndimage\u001b[0m\u001b[1;33m\u001b[0m\u001b[1;33m\u001b[0m\u001b[0m\n\u001b[1;32m---> 12\u001b[1;33m \u001b[1;32mfrom\u001b[0m \u001b[0mmpl_toolkits\u001b[0m\u001b[1;33m.\u001b[0m\u001b[0mbasemap\u001b[0m \u001b[1;32mimport\u001b[0m \u001b[0mBasemap\u001b[0m\u001b[1;33m,\u001b[0m \u001b[0mcm\u001b[0m\u001b[1;33m\u001b[0m\u001b[1;33m\u001b[0m\u001b[0m\n\u001b[0m\u001b[0;32m     13\u001b[0m \u001b[1;32mfrom\u001b[0m \u001b[0mdatetime\u001b[0m \u001b[1;32mimport\u001b[0m \u001b[0mdatetime\u001b[0m\u001b[1;33m\u001b[0m\u001b[1;33m\u001b[0m\u001b[0m\n",
      "\u001b[1;31mModuleNotFoundError\u001b[0m: No module named 'mpl_toolkits.basemap'"
     ]
    }
   ],
   "source": [
    "import pandas as pd\n",
    "import numpy as np\n",
    "import math\n",
    "import matplotlib as mpl\n",
    "import matplotlib.pyplot as plt\n",
    "import matplotlib.image as mpimage\n",
    "import matplotlib.dates as pltdate\n",
    "import scipy.io\n",
    "import json\n",
    "from scipy import interpolate\n",
    "from scipy import ndimage\n",
    "from mpl_toolkits.basemap import Basemap, cm\n",
    "from datetime import datetime"
   ]
  },
  {
   "cell_type": "code",
   "execution_count": 12,
   "metadata": {},
   "outputs": [],
   "source": [
    "def ReadReduceTrackData( filename ):\n",
    "    rt_data = pd.read_csv( filename,header=None,delim_whitespace=True )\n",
    "    rt_data = rt_data.rename(columns={ 0:\"year\",1:\"month\",2:\"day\",3:\"hour\",4:\"lat\",5:\"lon\",6:\"pressure\", 7:\"windspeed\" } )\n",
    "    rt_data[\"date\"] = pd.to_datetime( rt_data[[\"year\",\"month\",\"day\",\"hour\"]])\n",
    "    rt_data = rt_data.drop(columns=[\"year\",\"month\",\"day\",\"hour\"] )\n",
    "    rt_data = rt_data[[\"date\",\"lat\",\"lon\",\"pressure\",\"windspeed\",8]]\n",
    "    return rt_data\n",
    "\n",
    "def GetLocation(lon1,lat1, brng, distanceKm):\n",
    "    lat1 = lat1 * math.pi/ 180.0\n",
    "    lon1 = lon1 * math.pi / 180.0\n",
    "    #earth radius\n",
    "    R = 6378.1\n",
    "    #R = ~ 3959 MilesR = 3959\n",
    "\n",
    "    distanceKm = distanceKm/R\n",
    "\n",
    "    brng = (brng / 90)* math.pi / 2\n",
    "\n",
    "    lat2 = math.asin(math.sin(lat1) * math.cos(distanceKm) \n",
    "    + math.cos(lat1) * math.sin(distanceKm) * math.cos(brng))\n",
    "\n",
    "    lon2 = lon1 + math.atan2(math.sin(brng)*math.sin(distanceKm)\n",
    "    * math.cos(lat1),math.cos(distanceKm)-math.sin(lat1)*math.sin(lat2))\n",
    "\n",
    "    lon2 = 180.0 * lon2/ math.pi\n",
    "    lat2 = 180.0 * lat2/ math.pi\n",
    "\n",
    "    return lon2,lat2\n",
    "\n",
    "def GetJSONFiles(filename):\n",
    "    jfile = open( filename )\n",
    "    data = json.load( jfile )\n",
    "\n",
    "    #Converting String Keys to int\n",
    "    data = {int(k1): \n",
    "       { k2 : \n",
    "         { int(k3) : v3 for k3,v3 in v2.items() } \n",
    "         for k2,v2 in v1.items() \n",
    "        }  \n",
    "        for k1,v1 in data.items() \n",
    "       }\n",
    "    return data"
   ]
  },
  {
   "cell_type": "raw",
   "metadata": {},
   "source": [
    "SSMIS channels, from pg 32 of https://pps.gsfc.nasa.gov/Documents/L1C_ATBD.pdf\n",
    "Swath S1 has three low-frequency channels (19V, 19H, and 22V). \n",
    "Swath S2 has two low frequency channels (37V and 37H). \n",
    "Swath S3 has four high-frequency channels (150H, 183+/- 1H, 183+/-3H, and 183+/-7H). \n",
    "S4 has two high-frequency channels (91V and 91H). \n",
    "All the above frequencies are in GHz.\n",
    "\n",
    "GMI channels, from pg 17 https://pps.gsfc.nasa.gov/Documents/L1C_ATBD.pdf\n",
    "L1CGMI contains common calibrated brightness temperatures from the GMI passive microwave instrument flown on the GPM satellite. L1CGMI has two swaths. \n",
    "Swath S1 has nine channels that are similar to TRMM TMI (10V, 10H, 19V, 19H, 23V, 37V, 37H, 89V, and 89H). \n",
    "Swath S2 has four channels similar to the Advanced Microwave Sounding Unit – B (AMSU-B) (166V, 166H, 183+/-3V, and 183+/-8V). Data for both swaths are observed in the same revolution of the instrument."
   ]
  },
  {
   "cell_type": "markdown",
   "metadata": {},
   "source": [
    "Considering Example of 2014 | East Pacific Region | Storm number 1"
   ]
  },
  {
   "cell_type": "code",
   "execution_count": 13,
   "metadata": {},
   "outputs": [],
   "source": [
    "data = GetJSONFiles(\"..\\\\files_per_year.json\")"
   ]
  },
  {
   "cell_type": "code",
   "execution_count": null,
   "metadata": {},
   "outputs": [],
   "source": []
  },
  {
   "cell_type": "code",
   "execution_count": 75,
   "metadata": {},
   "outputs": [
    {
     "name": "stdout",
     "output_type": "stream",
     "text": [
      "['..\\\\CurrentData\\\\SHIPS_Navy_Combined\\\\raw_data\\\\14\\\\EPAC\\\\1\\\\', ['EPAC_14_1_Amanda_Reduced_Trackfile.txt', 'EPAC_14_1_Amanda_WWLLN_Locations.txt', 'trackfile.txt']]\n"
     ]
    }
   ],
   "source": [
    "year = 14\n",
    "region = 'EPAC'\n",
    "storm_no = 1\n",
    "storm = data[year][region][storm_no]\n",
    "s_f16 = storm[\"F16\"]\n",
    "s_f17 = storm[\"F17\"]\n",
    "s_f18 = storm[\"F18\"]\n",
    "bestTrack = storm[\"BestTrack\"]\n",
    "print(bestTrack)"
   ]
  },
  {
   "cell_type": "code",
   "execution_count": 76,
   "metadata": {},
   "outputs": [],
   "source": [
    "bestTrack = storm[\"BestTrack\"]\n",
    "reduced_track = \"..\\\\\" +bestTrack[0] + bestTrack[1][0]    \n",
    "rt_data = pd.read_csv( reduced_track,header=None,delim_whitespace=True )\n",
    "\n",
    "filename_16_1 = \"..\\\\\" +s_f16[0] + s_f16[1][0]\n",
    "filename_16_2 = \"..\\\\\" +s_f16[0] + s_f16[1][2]\n",
    "filename_16_3 = \"..\\\\\" +s_f16[0] + s_f16[1][3]\n",
    "filename_16_4 = \"..\\\\\" +s_f16[0] + s_f16[1][4]\n",
    "filename_16_5 = \"..\\\\\" +s_f16[0] + s_f16[1][5]"
   ]
  },
  {
   "cell_type": "code",
   "execution_count": 77,
   "metadata": {},
   "outputs": [
    {
     "name": "stdout",
     "output_type": "stream",
     "text": [
      "..\\..\\CurrentData\\Passtimes_and_1C_Data\\raw_data\\14\\EPAC\\1\\passtimes\\SSMIS\\F16\\20140521T235000_SSMIS_F16.mat\n"
     ]
    }
   ],
   "source": [
    "print(filename_16_2)\n",
    "mat = scipy.io.loadmat(filename_16_2)\n",
    "rt_data = ReadReduceTrackData(reduced_track)"
   ]
  },
  {
   "cell_type": "code",
   "execution_count": 78,
   "metadata": {},
   "outputs": [],
   "source": [
    "passData = mat[\"passData\"]\n",
    "val = passData[0,0]\n",
    "\n",
    "# 2007 06 02 T 004400_SSMIS_F16\n",
    "\n",
    "freq = val['S3']\n",
    "freq.shape\n",
    "filename= s_f16[1][0]\n",
    "dateForCenter = filename[:15]"
   ]
  },
  {
   "cell_type": "code",
   "execution_count": 79,
   "metadata": {},
   "outputs": [
    {
     "name": "stdout",
     "output_type": "stream",
     "text": [
      "(204, 1)\n",
      "(180, 204)\n",
      "(180, 204)\n",
      "(4, 180, 204)\n"
     ]
    },
    {
     "name": "stderr",
     "output_type": "stream",
     "text": [
      "C:\\ProgramData\\Anaconda3\\lib\\site-packages\\ipykernel_launcher.py:15: DeprecationWarning: parsing timezone aware datetimes is deprecated; this will raise an error in the future\n",
      "  from ipykernel import kernelapp as app\n"
     ]
    }
   ],
   "source": [
    "print ( freq[0][0][0].shape )\n",
    "print ( freq[0][0][1].shape )\n",
    "print ( freq[0][0][2].shape )\n",
    "print ( freq[0][0][3].shape )\n",
    "\n",
    "#In the function num2date and num2timedelta date starts with Jan 1, 0001 and not 0000 like matlab\n",
    "#Thats why -366\n",
    "serial_date = freq[0][0][0] - 366 \n",
    "normal_date = np.empty( (serial_date.shape),dtype=\"datetime64[ns]\" )\n",
    "lat = freq[0][0][1]\n",
    "lon = freq[0][0][2]\n",
    "channels = freq[0][0][3]\n",
    "\n",
    "for i in range(0,len(serial_date)):\n",
    "    normal_date[i,0] = np.datetime64( pltdate.num2date(serial_date[i,0] ) )"
   ]
  },
  {
   "cell_type": "code",
   "execution_count": null,
   "metadata": {},
   "outputs": [],
   "source": []
  },
  {
   "cell_type": "code",
   "execution_count": 80,
   "metadata": {
    "scrolled": true
   },
   "outputs": [
    {
     "data": {
      "image/png": "[encoded data removed]",
      "text/plain": [
       "<Figure size 468x288 with 1 Axes>"
      ]
     },
     "metadata": {
      "needs_background": "light"
     },
     "output_type": "display_data"
    },
    {
     "data": {
      "image/png": "[encoded data removed]",
      "text/plain": [
       "<Figure size 468x288 with 1 Axes>"
      ]
     },
     "metadata": {
      "needs_background": "light"
     },
     "output_type": "display_data"
    },
    {
     "name": "stdout",
     "output_type": "stream",
     "text": [
      "9.253743342507432\n",
      "-106.18318351696462\n"
     ]
    }
   ],
   "source": [
    "xnew = pltdate.datestr2num(dateForCenter) - pltdate.date2num(rt_data[\"date\"][0])\n",
    "x = pltdate.date2num(rt_data[\"date\"]) - pltdate.date2num(rt_data[\"date\"][0])\n",
    "\n",
    "ylat = rt_data[\"lat\"]\n",
    "ylon = rt_data[\"lon\"]\n",
    "\n",
    "newlat = 0\n",
    "newlon = 0\n",
    "if len(x) > 1:\n",
    "    #Latitude Calculation\n",
    "    tck = interpolate.CubicSpline(x, ylat)\n",
    "    newlat = tck(xnew)\n",
    "\n",
    "    plt.figure(figsize=(6.5, 4))\n",
    "    plt.plot(x, ylat, 'o', label='data')\n",
    "    plt.legend(loc='upper left', ncol=2)\n",
    "    plt.show()\n",
    "    \n",
    "    #Longitude Calculation\n",
    "    tck = interpolate.CubicSpline(x, ylon)\n",
    "    newlon = tck(xnew)\n",
    "    plt.figure(figsize=(6.5, 4))\n",
    "    plt.plot(x, ylon, 'o', label='data')\n",
    "    #plt.plot(xnew, tck(xnew), label=\"S\", color=\"red\")\n",
    "    plt.legend(loc='upper left', ncol=2)\n",
    "    plt.show()\n",
    "    \n",
    "    \n",
    "else:\n",
    "    newlat = y\n",
    "print(newlat)\n",
    "print(newlon)"
   ]
  },
  {
   "cell_type": "code",
   "execution_count": 91,
   "metadata": {
    "scrolled": true
   },
   "outputs": [
    {
     "name": "stdout",
     "output_type": "stream",
     "text": [
      "-106.18318351696462\n",
      "9.253743342507432\n"
     ]
    },
    {
     "name": "stderr",
     "output_type": "stream",
     "text": [
      "C:\\ProgramData\\Anaconda3\\lib\\site-packages\\ipykernel_launcher.py:26: MatplotlibDeprecationWarning: \n",
      "The dedent function was deprecated in Matplotlib 3.1 and will be removed in 3.3. Use inspect.cleandoc instead.\n"
     ]
    },
    {
     "data": {
      "image/png": "[encoded data removed]",
      "text/plain": [
       "<Figure size 480.24x360 with 1 Axes>"
      ]
     },
     "metadata": {},
     "output_type": "display_data"
    }
   ],
   "source": [
    "def WorldMap(lon,lat):\n",
    "    print(lon)\n",
    "    print(lat)\n",
    "    # Plot the figure, define the geographic bounds\n",
    "    # figsize=(4.8,3.0),dpi=72\n",
    "    fig = plt.figure(figsize=(6.67,5),dpi=72)\n",
    "\n",
    "    a = math.inf\n",
    "    b = -math.inf\n",
    "    c = math.inf\n",
    "    d = -math.inf\n",
    "    ls = [ 0,90,180,270 ]\n",
    "    for i in range(0,4):\n",
    "        t1,t2= GetLocation(lon, lat,ls[i], 400)\n",
    "        a = min(t1,a)\n",
    "        b = max(t1,b)\n",
    "        c = min(t2,c)\n",
    "        d = max(t2,d)\n",
    "\n",
    "    loncorners = ([a,b])\n",
    "    latcorners = ([c,d])\n",
    "    m = Basemap(projection='cyl',\n",
    "                llcrnrlat=latcorners[0],\n",
    "                urcrnrlat=latcorners[1],\n",
    "                llcrnrlon=loncorners[0],\n",
    "                urcrnrlon=loncorners[1])\n",
    "           \n",
    "     \n",
    "    #Draw Parallel lines in the map\n",
    "    parallels = np.arange(-60.,61,20.)\n",
    "    m.drawparallels(parallels,labels=[True,False,True,False])\n",
    "\n",
    "    #Draw Vertical lines in the map\n",
    "    meridians = np.arange(-180.,180.,60.)\n",
    "    m.drawmeridians(meridians,labels=[False,False,False,True])\n",
    "\n",
    "    return fig, m\n",
    "\n",
    "fig, m = WorldMap(newlon,newlat)\n",
    "\n",
    "a,b = m(lon,lat)\n",
    "img = m.pcolormesh(a,b,channels[0], cmap=\"jet_r\",snap =True) \n",
    "\n",
    "plt.tight_layout(pad=0)\n",
    "plt.savefig(\"apple1\",bbox_inches = 'tight', pad_inches = 0)\n",
    "\n",
    "#To add Color Bar\n",
    "#fig.colorbar(img)\n",
    "\n",
    "#\n",
    "#plt.subplots_adjust(left=0, bottom=0, right=1, top=1, wspace=0, hspace=0)\n",
    "#img.get_array().reshape(img._meshWidth, img._meshHeight).shape"
   ]
  },
  {
   "cell_type": "markdown",
   "metadata": {},
   "source": [
    "Code Below Describes Land Check"
   ]
  },
  {
   "cell_type": "code",
   "execution_count": 92,
   "metadata": {},
   "outputs": [],
   "source": [
    "checklon = np.zeros((721,361))\n",
    "checklat = np.zeros((721,361))\n",
    "\n",
    "templon = np.arange(-180.0, 180.5, 0.5)\n",
    "templat = np.arange(-90.0, 90.5, 0.5)\n",
    "row = 0\n",
    "for i in templon:\n",
    "    col = 0\n",
    "    for j in templat:\n",
    "        checklon[row][col] = i\n",
    "        checklat[row][col] = j\n",
    "        col+=1\n",
    "    row+=1\n",
    "    \n",
    "mat = scipy.io.loadmat(\"landcheck.mat\")\n",
    "temp = mat['val']"
   ]
  },
  {
   "cell_type": "code",
   "execution_count": 93,
   "metadata": {
    "scrolled": true
   },
   "outputs": [
    {
     "data": {
      "image/png": "[encoded data removed]",
      "text/plain": [
       "<Figure size 432x288 with 1 Axes>"
      ]
     },
     "metadata": {},
     "output_type": "display_data"
    }
   ],
   "source": [
    "x = m.pcolormesh(checklon,checklat,temp,cmap='jet_r')\n",
    "plt.tight_layout(pad=0)\n",
    "plt.savefig(\"apple2\",bbox_inches = 'tight', pad_inches = 0)"
   ]
  },
  {
   "cell_type": "code",
   "execution_count": 84,
   "metadata": {},
   "outputs": [],
   "source": [
    "import cv2\n",
    "img_cv2 = cv2.imread(\"apple2.png\")\n",
    "img_cv2 = cv2.resize(img_cv2, (360, 360))"
   ]
  },
  {
   "cell_type": "code",
   "execution_count": 85,
   "metadata": {},
   "outputs": [],
   "source": [
    "img_cv1 = cv2.imread(\"apple1.png\") \n",
    "img_cv1 = cv2.resize(img_cv1, (360,360))"
   ]
  },
  {
   "cell_type": "code",
   "execution_count": 86,
   "metadata": {},
   "outputs": [],
   "source": [
    "def ProbabilityOfWhiteSpace(img_cv,cdsf2):\n",
    "        count = 0\n",
    "        isOcean = True\n",
    "        for i in range(img_cv.shape[0]):\n",
    "            for j in range(img_cv.shape[1]):\n",
    "                if ( img_cv[i][j][0] == 255 and img_cv[i][j][1] == 255 and img_cv[i][j][2] == 255):\n",
    "                    count+=1\n",
    "                elif cdsf2[i][j][0] == 0 and ( cdsf2[i][j][1] > 0 or cdsf2[i][j][2] > 0 ):\n",
    "                    isOcean = False\n",
    "        return count / (img_cv.shape[0]*img_cv.shape[1]), isOcean"
   ]
  },
  {
   "cell_type": "code",
   "execution_count": 87,
   "metadata": {},
   "outputs": [
    {
     "data": {
      "text/plain": [
       "(0.013842592592592592, True)"
      ]
     },
     "execution_count": 87,
     "metadata": {},
     "output_type": "execute_result"
    }
   ],
   "source": [
    "ProbabilityOfWhiteSpace(img_cv1, img_cv2)"
   ]
  },
  {
   "cell_type": "code",
   "execution_count": null,
   "metadata": {},
   "outputs": [],
   "source": [
    "for i in range(360):\n",
    "    for j in range(360):\n",
    "        if img_cv2[i][j][1] == 0 and "
   ]
  },
  {
   "cell_type": "code",
   "execution_count": null,
   "metadata": {},
   "outputs": [],
   "source": [
    "for i in range(360):\n",
    "    for j in range(360):\n",
    "        if gray1[]"
   ]
  },
  {
   "cell_type": "raw",
   "metadata": {},
   "source": [
    "great circle distance\n",
    "fuzzy similarity measures\n",
    "36720\n",
    "\n",
    "a = math.inf\n",
    "b = -math.inf\n",
    "c = math.inf\n",
    "d = -math.inf\n",
    "ls = [ 0,90,180,270 ]\n",
    "for i in range(0,4):\n",
    "    t1,t2= GetLocation(newlon, newlat,ls[i], 400)\n",
    "    a = min(t1,a)\n",
    "    b = max(t1,b)\n",
    "    c = min(t2,c)\n",
    "    d = max(t2,d)\n",
    "    \n",
    "print(a,b,c,d)\n",
    "\n",
    "\n",
    "ysfsd = 0\n",
    "asdas = 0\n",
    "\n",
    "for i in range(lon.shape[0]):\n",
    "    for j in range(lon.shape[1]):\n",
    "        if lon[i][j] < a or lon[i][j] > b:\n",
    "            lon[i][j] = -1000\n",
    "\n",
    "for i in range(lat.shape[0]):\n",
    "    for j in range(lat.shape[1]):\n",
    "        if lat[i][j] < c or lat[i][j] > d:\n",
    "            lat[i][j] = -1000\n",
    "            \n",
    "sa = np.where(lat != math.nan)\n",
    "print(sa[0].shape)\n",
    "print(np.unique(sa[0]).shape)\n",
    "print(np.unique(sa[1]).shape)\n",
    "print( lat[sa[0]][sa[1]] )"
   ]
  },
  {
   "cell_type": "code",
   "execution_count": null,
   "metadata": {
    "scrolled": true
   },
   "outputs": [],
   "source": [
    "\n",
    "minLon = np.amin(lon)\n",
    "maxLon = np.amax(lon)\n",
    "minLat = np.amin(lat)\n",
    "maxLat = np.amax(lat)\n",
    "fig, m = WorldMap(minLon,maxLon,minLat,maxLat)\n",
    "\n",
    "a,b = m(lon,lat)\n",
    "plt.pcolormesh(a,b,channels[0], cmap=\"jet_r\")"
   ]
  },
  {
   "cell_type": "code",
   "execution_count": null,
   "metadata": {},
   "outputs": [],
   "source": [
    "\n",
    "templon = np.arange(-180.0, 180.5, 0.5)\n",
    "templat = np.arange(-90.0, 90.5, 0.5)\n"
   ]
  },
  {
   "cell_type": "code",
   "execution_count": null,
   "metadata": {},
   "outputs": [],
   "source": [
    "\n"
   ]
  },
  {
   "cell_type": "code",
   "execution_count": null,
   "metadata": {},
   "outputs": [],
   "source": [
    "lat.shape"
   ]
  },
  {
   "cell_type": "code",
   "execution_count": null,
   "metadata": {},
   "outputs": [],
   "source": [
    "checklat.shape"
   ]
  },
  {
   "cell_type": "code",
   "execution_count": null,
   "metadata": {
    "scrolled": true
   },
   "outputs": [],
   "source": [
    "\n",
    "mat"
   ]
  },
  {
   "cell_type": "code",
   "execution_count": null,
   "metadata": {},
   "outputs": [],
   "source": []
  },
  {
   "cell_type": "code",
   "execution_count": 45,
   "metadata": {},
   "outputs": [
    {
     "name": "stderr",
     "output_type": "stream",
     "text": [
      "C:\\ProgramData\\Anaconda3\\lib\\site-packages\\ipykernel_launcher.py:7: MatplotlibDeprecationWarning: \n",
      "The dedent function was deprecated in Matplotlib 3.1 and will be removed in 3.3. Use inspect.cleandoc instead.\n",
      "  import sys\n"
     ]
    },
    {
     "data": {
      "image/png": "[encoded data removed]",
      "text/plain": [
       "<Figure size 1800x1200 with 1 Axes>"
      ]
     },
     "metadata": {},
     "output_type": "display_data"
    }
   ],
   "source": [
    "fig = plt.figure(dpi=300)\n",
    "\n",
    "m = Basemap(projection='cyl',\n",
    "            llcrnrlat=-90,\n",
    "            urcrnrlat=90,\n",
    "            llcrnrlon=-180,\n",
    "            urcrnrlon=180)\n",
    "           \n",
    "    \n",
    "\n",
    "\n",
    "m.pcolormesh(checklon,checklat,temp,cmap='jet_r')\n",
    "plt.tight_layout(pad=0)\n",
    "plt.savefig(\"land\",bbox_inches = 'tight', pad_inches = 0)"
   ]
  },
  {
   "cell_type": "code",
   "execution_count": null,
   "metadata": {},
   "outputs": [],
   "source": [
    "def IsOcean(newlon,newlat):\n",
    "    arrlon = np.arange(-180.0, 180.5, 0.5)\n",
    "    arrlat = np.arange(-90.0, 90.5, 0.5)\n",
    "\n",
    "    currLon = 0\n",
    "    for tl in arrlon:\n",
    "        if tl > newlon:\n",
    "            break\n",
    "        currLon+=1\n",
    "\n",
    "    currLat = 0\n",
    "    for tl in arrlat:\n",
    "        if tl > newlat:\n",
    "            break\n",
    "        currLat+=1\n",
    "    \n",
    "    return currLon,currLat\n",
    "    if currLon != 0 or currLat != 0:\n",
    "        temp[currLon][currLat] == 2 and temp[currLon - 1][currLat - 1] == 2"
   ]
  },
  {
   "cell_type": "code",
   "execution_count": null,
   "metadata": {},
   "outputs": [],
   "source": [
    "prevLat = 0\n",
    "currLat = 0\n",
    "print(newlat)\n",
    "print(newlon)\n",
    "\n",
    "\n",
    "\n",
    "prevLon = 0\n",
    "currLon = 0    \n",
    "for l in checklon:\n",
    "    if l[0] > newlon:\n",
    "        currLon = prevLon\n",
    "        break\n",
    "    prevLon+=1\n",
    "    \n",
    "print(prevLat,currLat)\n",
    "print(prevLon,currLon)"
   ]
  },
  {
   "cell_type": "code",
   "execution_count": null,
   "metadata": {},
   "outputs": [],
   "source": [
    "\n",
    "len(checklat.T)"
   ]
  },
  {
   "cell_type": "code",
   "execution_count": null,
   "metadata": {},
   "outputs": [],
   "source": [
    "print( np.where(checklon == prevLon)[0][0] )   \n",
    "print( np.where(checklat == prevLat)[1][0] )\n",
    "print( np.where(checklon == currLon)[0][0] )   \n",
    "print( np.where(checklat == currLat)[1][0] )\n",
    "print( temp[148][199] )\n",
    "print( temp[147][198] )"
   ]
  },
  {
   "cell_type": "code",
   "execution_count": null,
   "metadata": {},
   "outputs": [],
   "source": [
    "def floatHourToTime(fh):\n",
    "    h, r = divmod(fh, 1)\n",
    "    m, r = divmod(r*60, 1)\n",
    "    return (\n",
    "        int(h),\n",
    "        int(m),\n",
    "        int(r*60),\n",
    "    )\n",
    "\n",
    "def SerialToNormal(excel_date):\n",
    "    #Converting the date from Jan 1, 0001\n",
    "    #But it start from Jan 1, 0000\n",
    "    #So subtracting 1 year from dt.year\n",
    "    dt = datetime.fromordinal(datetime(1, 1, 1).toordinal() + int(excel_date) - 2)\n",
    "    hour, minute, second = floatHourToTime(excel_date % 1)\n",
    "    dt = dt.replace(year = dt.year, hour=hour, minute=minute, second=second)\n",
    "    return dt\n",
    "\n",
    "def excel_date(date1):\n",
    "    temp = datetime(1, 1, 1)    # Note start date, Jan 1, 0001\n",
    "    delta = date1 - temp\n",
    "    return float(delta.days)+(float(delta.seconds) / 86400)"
   ]
  },
  {
   "cell_type": "code",
   "execution_count": null,
   "metadata": {},
   "outputs": [],
   "source": []
  },
  {
   "cell_type": "code",
   "execution_count": null,
   "metadata": {},
   "outputs": [],
   "source": [
    "for f_,files in storm.items():\n",
    "    if f_ == \"BestTrack\":\n",
    "        continue\n",
    "    \n",
    "    image_dir = \"..\\\\..\\\\MyCreatedData\\\\\"+str(year)+\"\\\\\"+region+\"\\\\\"+str(storm_no)+\"\\\\\"+f_+\"\\\\\"\n",
    "    for filename in files[1]:\n",
    "        file_dir = files[0] + filename\n",
    "        \n",
    "        time = filename[ 9:15 ]\n",
    "        \n",
    "        mat = scipy.io.loadmat(file_dir)\n",
    "        swaths = mat[\"passData\"][0][0]\n",
    "        \n",
    "        i = 1\n",
    "        for swath_data in swaths:  \n",
    "            serial_date = swath_data[0][0][0]\n",
    "            lat = swath_data[0][0][1]\n",
    "            lon = swath_data[0][0][2]\n",
    "            channels = swath_data[0][0][3]\n",
    "            \n",
    "            lat[lat == -9999.9] = 0\n",
    "            lon[lon == -9999.9] = 0\n",
    "           \n",
    "            minLon = np.amin(lon)\n",
    "            maxLon = np.amax(lon)\n",
    "            minLat = np.amin(lat)\n",
    "            maxLat = np.amax(lat)\n",
    "            \n",
    "            fig, m = WorldMap(minLon,maxLon,minLat,maxLat)\n",
    "            a,b = m(lon,lat)\n",
    "\n",
    "            j = 0\n",
    "            for freq in channels:\n",
    "                image_file_dir = image_dir + \"S\" + str(i) + \"\\\\\" + swath_map[i][j] + \"\\\\\" + filename[ : len(filename) - 4]\n",
    "                plt.pcolormesh(a,b,freq, cmap=\"jet_r\")\n",
    "                plt.savefig( image_file_dir )\n",
    "                j+=1\n",
    "            i+=1"
   ]
  }
 ],
 "metadata": {
  "kernelspec": {
   "display_name": "Python 3",
   "language": "python",
   "name": "python3"
  },
  "language_info": {
   "codemirror_mode": {
    "name": "ipython",
    "version": 3
   },
   "file_extension": ".py",
   "mimetype": "text/x-python",
   "name": "python",
   "nbconvert_exporter": "python",
   "pygments_lexer": "ipython3",
   "version": "3.7.4"
  }
 },
 "nbformat": 4,
 "nbformat_minor": 2
}
